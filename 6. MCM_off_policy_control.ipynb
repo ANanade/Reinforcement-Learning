{
  "cells": [
    {
      "cell_type": "markdown",
      "metadata": {
        "id": "view-in-github",
        "colab_type": "text"
      },
      "source": [
        "<a href=\"https://colab.research.google.com/github/ANanade/Reinforcement-Learning/blob/main/6.%20MCM_off_policy_control.ipynb\" target=\"_parent\"><img src=\"https://colab.research.google.com/assets/colab-badge.svg\" alt=\"Open In Colab\"/></a>"
      ]
    },
    {
      "cell_type": "markdown",
      "metadata": {
        "pycharm": {
          "name": "#%%\n"
        },
        "id": "sICgPdT6C407"
      },
      "source": [
        "<div style=\"text-align:center\">\n",
        "    <h1>\n",
        "        Off-policy Monte Carlo Control\n",
        "    </h1>\n",
        "</div>\n",
        "\n",
        "<br>"
      ]
    },
    {
      "cell_type": "code",
      "source": [
        "# @title Setup code (not important) - Run this cell by pressing \"Shift + Enter\"\n",
        "\n",
        "\n",
        "\n",
        "!pip install -qq gym==0.23.0\n",
        "\n",
        "\n",
        "from typing import Tuple, Dict, Optional, Iterable, Callable\n",
        "\n",
        "import numpy as np\n",
        "import seaborn as sns\n",
        "import matplotlib\n",
        "from matplotlib import animation\n",
        "\n",
        "from IPython.display import HTML\n",
        "\n",
        "import gym\n",
        "from gym import spaces\n",
        "from gym.error import DependencyNotInstalled\n",
        "\n",
        "import pygame\n",
        "from pygame import gfxdraw\n",
        "\n",
        "\n",
        "class Maze(gym.Env):\n",
        "\n",
        "    def __init__(self, exploring_starts: bool = False,\n",
        "                 shaped_rewards: bool = False, size: int = 5) -> None:\n",
        "        super().__init__()\n",
        "        self.exploring_starts = exploring_starts\n",
        "        self.shaped_rewards = shaped_rewards\n",
        "        self.state = (size - 1, size - 1)\n",
        "        self.goal = (size - 1, size - 1)\n",
        "        self.maze = self._create_maze(size=size)\n",
        "        self.distances = self._compute_distances(self.goal, self.maze)\n",
        "        self.action_space = spaces.Discrete(n=4)\n",
        "        self.action_space.action_meanings = {0: 'UP', 1: 'RIGHT', 2: 'DOWN', 3: \"LEFT\"}\n",
        "        self.observation_space = spaces.MultiDiscrete([size, size])\n",
        "\n",
        "        self.screen = None\n",
        "        self.agent_transform = None\n",
        "\n",
        "    def step(self, action: int) -> Tuple[Tuple[int, int], float, bool, Dict]:\n",
        "        reward = self.compute_reward(self.state, action)\n",
        "        self.state = self._get_next_state(self.state, action)\n",
        "        done = self.state == self.goal\n",
        "        info = {}\n",
        "        return self.state, reward, done, info\n",
        "\n",
        "    def reset(self) -> Tuple[int, int]:\n",
        "        if self.exploring_starts:\n",
        "            while self.state == self.goal:\n",
        "                self.state = tuple(self.observation_space.sample())\n",
        "        else:\n",
        "            self.state = (0, 0)\n",
        "        return self.state\n",
        "\n",
        "    def render(self, mode: str = 'human') -> Optional[np.ndarray]:\n",
        "        assert mode in ['human', 'rgb_array']\n",
        "\n",
        "        screen_size = 600\n",
        "        scale = screen_size / 5\n",
        "\n",
        "        if self.screen is None:\n",
        "            pygame.init()\n",
        "            self.screen = pygame.Surface((screen_size, screen_size))\n",
        "\n",
        "        surf = pygame.Surface((screen_size, screen_size))\n",
        "        surf.fill((22, 36, 71))\n",
        "\n",
        "\n",
        "        for row in range(5):\n",
        "            for col in range(5):\n",
        "\n",
        "                state = (row, col)\n",
        "                for next_state in [(row + 1, col), (row - 1, col), (row, col + 1), (row, col - 1)]:\n",
        "                    if next_state not in self.maze[state]:\n",
        "\n",
        "                        # Add the geometry of the edges and walls (i.e. the boundaries between\n",
        "                        # adjacent squares that are not connected).\n",
        "                        row_diff, col_diff = np.subtract(next_state, state)\n",
        "                        left = (col + (col_diff > 0)) * scale - 2 * (col_diff != 0)\n",
        "                        right = ((col + 1) - (col_diff < 0)) * scale + 2 * (col_diff != 0)\n",
        "                        top = (5 - (row + (row_diff > 0))) * scale - 2 * (row_diff != 0)\n",
        "                        bottom = (5 - ((row + 1) - (row_diff < 0))) * scale + 2 * (row_diff != 0)\n",
        "\n",
        "                        gfxdraw.filled_polygon(surf, [(left, bottom), (left, top), (right, top), (right, bottom)], (255, 255, 255))\n",
        "\n",
        "        # Add the geometry of the goal square to the viewer.\n",
        "        left, right, top, bottom = scale * 4 + 10, scale * 5 - 10, scale - 10, 10\n",
        "        gfxdraw.filled_polygon(surf, [(left, bottom), (left, top), (right, top), (right, bottom)], (40, 199, 172))\n",
        "\n",
        "        # Add the geometry of the agent to the viewer.\n",
        "        agent_row = int(screen_size - scale * (self.state[0] + .5))\n",
        "        agent_col = int(scale * (self.state[1] + .5))\n",
        "        gfxdraw.filled_circle(surf, agent_col, agent_row, int(scale * .6 / 2), (228, 63, 90))\n",
        "\n",
        "        surf = pygame.transform.flip(surf, False, True)\n",
        "        self.screen.blit(surf, (0, 0))\n",
        "\n",
        "        return np.transpose(\n",
        "                np.array(pygame.surfarray.pixels3d(self.screen)), axes=(1, 0, 2)\n",
        "            )\n",
        "\n",
        "    def close(self) -> None:\n",
        "        if self.screen is not None:\n",
        "            pygame.display.quit()\n",
        "            pygame.quit()\n",
        "            self.screen = None\n",
        "\n",
        "    def compute_reward(self, state: Tuple[int, int], action: int) -> float:\n",
        "        next_state = self._get_next_state(state, action)\n",
        "        if self.shaped_rewards:\n",
        "            return - (self.distances[next_state] / self.distances.max())\n",
        "        return - float(state != self.goal)\n",
        "\n",
        "    def simulate_step(self, state: Tuple[int, int], action: int):\n",
        "        reward = self.compute_reward(state, action)\n",
        "        next_state = self._get_next_state(state, action)\n",
        "        done = next_state == self.goal\n",
        "        info = {}\n",
        "        return next_state, reward, done, info\n",
        "\n",
        "    def _get_next_state(self, state: Tuple[int, int], action: int) -> Tuple[int, int]:\n",
        "        if action == 0:\n",
        "            next_state = (state[0] - 1, state[1])\n",
        "        elif action == 1:\n",
        "            next_state = (state[0], state[1] + 1)\n",
        "        elif action == 2:\n",
        "            next_state = (state[0] + 1, state[1])\n",
        "        elif action == 3:\n",
        "            next_state = (state[0], state[1] - 1)\n",
        "        else:\n",
        "            raise ValueError(\"Action value not supported:\", action)\n",
        "        if next_state in self.maze[state]:\n",
        "            return next_state\n",
        "        return state\n",
        "\n",
        "    @staticmethod\n",
        "    def _create_maze(size: int) -> Dict[Tuple[int, int], Iterable[Tuple[int, int]]]:\n",
        "        maze = {(row, col): [(row - 1, col), (row + 1, col), (row, col - 1), (row, col + 1)]\n",
        "                for row in range(size) for col in range(size)}\n",
        "\n",
        "        left_edges = [[(row, 0), (row, -1)] for row in range(size)]\n",
        "        right_edges = [[(row, size - 1), (row, size)] for row in range(size)]\n",
        "        upper_edges = [[(0, col), (-1, col)] for col in range(size)]\n",
        "        lower_edges = [[(size - 1, col), (size, col)] for col in range(size)]\n",
        "        walls = [\n",
        "            [(1, 0), (1, 1)], [(2, 0), (2, 1)], [(3, 0), (3, 1)],\n",
        "            [(1, 1), (1, 2)], [(2, 1), (2, 2)], [(3, 1), (3, 2)],\n",
        "            [(3, 1), (4, 1)], [(0, 2), (1, 2)], [(1, 2), (1, 3)],\n",
        "            [(2, 2), (3, 2)], [(2, 3), (3, 3)], [(2, 4), (3, 4)],\n",
        "            [(4, 2), (4, 3)], [(1, 3), (1, 4)], [(2, 3), (2, 4)],\n",
        "        ]\n",
        "\n",
        "        obstacles = upper_edges + lower_edges + left_edges + right_edges + walls\n",
        "\n",
        "        for src, dst in obstacles:\n",
        "            maze[src].remove(dst)\n",
        "\n",
        "            if dst in maze:\n",
        "                maze[dst].remove(src)\n",
        "\n",
        "        return maze\n",
        "\n",
        "    @staticmethod\n",
        "    def _compute_distances(goal: Tuple[int, int],\n",
        "                           maze: Dict[Tuple[int, int], Iterable[Tuple[int, int]]]) -> np.ndarray:\n",
        "        distances = np.full((5, 5), np.inf)\n",
        "        visited = set()\n",
        "        distances[goal] = 0.\n",
        "\n",
        "        while visited != set(maze):\n",
        "            sorted_dst = [(v // 5, v % 5) for v in distances.argsort(axis=None)]\n",
        "            closest = next(x for x in sorted_dst if x not in visited)\n",
        "            visited.add(closest)\n",
        "\n",
        "            for neighbour in maze[closest]:\n",
        "                distances[neighbour] = min(distances[neighbour], distances[closest] + 1)\n",
        "        return distances\n",
        "\n",
        "\n",
        "def plot_policy(probs_or_qvals, frame, action_meanings=None):\n",
        "    if action_meanings is None:\n",
        "        action_meanings = {0: 'U', 1: 'R', 2: 'D', 3: 'L'}\n",
        "    fig, axes = plt.subplots(1, 2, figsize=(8, 4))\n",
        "    max_prob_actions = probs_or_qvals.argmax(axis=-1)\n",
        "    probs_copy = max_prob_actions.copy().astype(object)\n",
        "    for key in action_meanings:\n",
        "        probs_copy[probs_copy == key] = action_meanings[key]\n",
        "    sns.heatmap(max_prob_actions, annot=probs_copy, fmt='', cbar=False, cmap='coolwarm',\n",
        "                annot_kws={'weight': 'bold', 'size': 12}, linewidths=2, ax=axes[0])\n",
        "    axes[1].imshow(frame)\n",
        "    axes[0].axis('off')\n",
        "    axes[1].axis('off')\n",
        "    plt.suptitle(\"Policy\", size=18)\n",
        "    plt.tight_layout()\n",
        "\n",
        "\n",
        "def plot_values(state_values, frame):\n",
        "    f, axes = plt.subplots(1, 2, figsize=(10, 4))\n",
        "    sns.heatmap(state_values, annot=True, fmt=\".2f\", cmap='coolwarm',\n",
        "                annot_kws={'weight': 'bold', 'size': 12}, linewidths=2, ax=axes[0])\n",
        "    axes[1].imshow(frame)\n",
        "    axes[0].axis('off')\n",
        "    axes[1].axis('off')\n",
        "    plt.tight_layout()\n",
        "\n",
        "\n",
        "def display_video(frames):\n",
        "    # Copied from: https://colab.research.google.com/github/deepmind/dm_control/blob/master/tutorial.ipynb\n",
        "    orig_backend = matplotlib.get_backend()\n",
        "    matplotlib.use('Agg')\n",
        "    fig, ax = plt.subplots(1, 1, figsize=(5, 5))\n",
        "    matplotlib.use(orig_backend)\n",
        "    ax.set_axis_off()\n",
        "    ax.set_aspect('equal')\n",
        "    ax.set_position([0, 0, 1, 1])\n",
        "    im = ax.imshow(frames[0])\n",
        "    def update(frame):\n",
        "        im.set_data(frame)\n",
        "        return [im]\n",
        "    anim = animation.FuncAnimation(fig=fig, func=update, frames=frames,\n",
        "                                    interval=50, blit=True, repeat=False)\n",
        "    return HTML(anim.to_html5_video())\n",
        "\n",
        "\n",
        "def test_agent(environment, policy, episodes=10):\n",
        "    frames = []\n",
        "    for episode in range(episodes):\n",
        "        state = env.reset()\n",
        "        done = False\n",
        "        frames.append(env.render(mode=\"rgb_array\"))\n",
        "\n",
        "        while not done:\n",
        "            p = policy(state)\n",
        "            if isinstance(p, np.ndarray):\n",
        "                action = np.random.choice(4, p=p)\n",
        "            else:\n",
        "                action = p\n",
        "            next_state, reward, done, extra_info = env.step(action)\n",
        "            img = env.render(mode=\"rgb_array\")\n",
        "            frames.append(img)\n",
        "            state = next_state\n",
        "\n",
        "    return display_video(frames)\n",
        "\n",
        "\n",
        "def plot_action_values(action_values):\n",
        "\n",
        "    text_positions = [\n",
        "        [(0.35, 4.75), (1.35, 4.75), (2.35, 4.75), (3.35, 4.75), (4.35, 4.75),\n",
        "         (0.35, 3.75), (1.35, 3.75), (2.35, 3.75), (3.35, 3.75), (4.35, 3.75),\n",
        "         (0.35, 2.75), (1.35, 2.75), (2.35, 2.75), (3.35, 2.75), (4.35, 2.75),\n",
        "         (0.35, 1.75), (1.35, 1.75), (2.35, 1.75), (3.35, 1.75), (4.35, 1.75),\n",
        "         (0.35, 0.75), (1.35, 0.75), (2.35, 0.75), (3.35, 0.75), (4.35, 0.75)],\n",
        "        [(0.6, 4.45), (1.6, 4.45), (2.6, 4.45), (3.6, 4.45), (4.6, 4.45),\n",
        "         (0.6, 3.45), (1.6, 3.45), (2.6, 3.45), (3.6, 3.45), (4.6, 3.45),\n",
        "         (0.6, 2.45), (1.6, 2.45), (2.6, 2.45), (3.6, 2.45), (4.6, 2.45),\n",
        "         (0.6, 1.45), (1.6, 1.45), (2.6, 1.45), (3.6, 1.45), (4.6, 1.45),\n",
        "         (0.6, 0.45), (1.6, 0.45), (2.6, 0.45), (3.6, 0.45), (4.6, 0.45)],\n",
        "        [(0.35, 4.15), (1.35, 4.15), (2.35, 4.15), (3.35, 4.15), (4.35, 4.15),\n",
        "         (0.35, 3.15), (1.35, 3.15), (2.35, 3.15), (3.35, 3.15), (4.35, 3.15),\n",
        "         (0.35, 2.15), (1.35, 2.15), (2.35, 2.15), (3.35, 2.15), (4.35, 2.15),\n",
        "         (0.35, 1.15), (1.35, 1.15), (2.35, 1.15), (3.35, 1.15), (4.35, 1.15),\n",
        "         (0.35, 0.15), (1.35, 0.15), (2.35, 0.15), (3.35, 0.15), (4.35, 0.15)],\n",
        "        [(0.05, 4.45), (1.05, 4.45), (2.05, 4.45), (3.05, 4.45), (4.05, 4.45),\n",
        "         (0.05, 3.45), (1.05, 3.45), (2.05, 3.45), (3.05, 3.45), (4.05, 3.45),\n",
        "         (0.05, 2.45), (1.05, 2.45), (2.05, 2.45), (3.05, 2.45), (4.05, 2.45),\n",
        "         (0.05, 1.45), (1.05, 1.45), (2.05, 1.45), (3.05, 1.45), (4.05, 1.45),\n",
        "         (0.05, 0.45), (1.05, 0.45), (2.05, 0.45), (3.05, 0.45), (4.05, 0.45)]]\n",
        "\n",
        "    fig, ax = plt.subplots(figsize=(7, 7))\n",
        "    tripcolor = quatromatrix(action_values, ax=ax,\n",
        "                             triplotkw={\"color\": \"k\", \"lw\": 1}, tripcolorkw={\"cmap\": \"coolwarm\"})\n",
        "    ax.margins(0)\n",
        "    ax.set_aspect(\"equal\")\n",
        "    fig.colorbar(tripcolor)\n",
        "\n",
        "    for j, av in enumerate(text_positions):\n",
        "        for i, (xi, yi) in enumerate(av):\n",
        "            plt.text(xi, yi, round(action_values[:, :, j].flatten()[i], 2), size=8, color=\"w\", weight=\"bold\")\n",
        "\n",
        "    plt.title(\"Action values Q(s,a)\", size=18)\n",
        "    plt.tight_layout()\n",
        "    plt.show()\n",
        "\n",
        "\n",
        "def quatromatrix(action_values, ax=None, triplotkw=None, tripcolorkw=None):\n",
        "    action_values = np.flipud(action_values)\n",
        "    n = 5\n",
        "    m = 5\n",
        "    a = np.array([[0, 0], [0, 1], [.5, .5], [1, 0], [1, 1]])\n",
        "    tr = np.array([[0, 1, 2], [0, 2, 3], [2, 3, 4], [1, 2, 4]])\n",
        "    A = np.zeros((n * m * 5, 2))\n",
        "    Tr = np.zeros((n * m * 4, 3))\n",
        "    for i in range(n):\n",
        "        for j in range(m):\n",
        "            k = i * m + j\n",
        "            A[k * 5:(k + 1) * 5, :] = np.c_[a[:, 0] + j, a[:, 1] + i]\n",
        "            Tr[k * 4:(k + 1) * 4, :] = tr + k * 5\n",
        "    C = np.c_[action_values[:, :, 3].flatten(), action_values[:, :, 2].flatten(),\n",
        "              action_values[:, :, 1].flatten(), action_values[:, :, 0].flatten()].flatten()\n",
        "\n",
        "    ax.triplot(A[:, 0], A[:, 1], Tr, **triplotkw)\n",
        "    tripcolor = ax.tripcolor(A[:, 0], A[:, 1], Tr, facecolors=C, **tripcolorkw)\n",
        "    return tripcolor\n",
        "\n",
        "\n"
      ],
      "metadata": {
        "cellView": "form",
        "id": "ePzDjVJaC9bZ",
        "colab": {
          "base_uri": "https://localhost:8080/"
        },
        "outputId": "35d60abb-faa0-4f9a-d491-78396cf6bb1f"
      },
      "execution_count": null,
      "outputs": [
        {
          "output_type": "stream",
          "name": "stdout",
          "text": [
            "\u001b[?25l     \u001b[90m━━━━━━━━━━━━━━━━━━━━━━━━━━━━━━━━━━━━━━━━\u001b[0m \u001b[32m0.0/624.4 kB\u001b[0m \u001b[31m?\u001b[0m eta \u001b[36m-:--:--\u001b[0m\r\u001b[2K     \u001b[91m━━━━━━━━━━━━━━━━━━━━━━━━━━━━━━━━━━━━━━━\u001b[0m\u001b[90m╺\u001b[0m \u001b[32m614.4/624.4 kB\u001b[0m \u001b[31m18.3 MB/s\u001b[0m eta \u001b[36m0:00:01\u001b[0m\r\u001b[2K     \u001b[90m━━━━━━━━━━━━━━━━━━━━━━━━━━━━━━━━━━━━━━━━\u001b[0m \u001b[32m624.4/624.4 kB\u001b[0m \u001b[31m12.2 MB/s\u001b[0m eta \u001b[36m0:00:00\u001b[0m\n",
            "\u001b[?25h  Installing build dependencies ... \u001b[?25l\u001b[?25hdone\n",
            "  Getting requirements to build wheel ... \u001b[?25l\u001b[?25hdone\n",
            "  Preparing metadata (pyproject.toml) ... \u001b[?25l\u001b[?25hdone\n",
            "  Building wheel for gym (pyproject.toml) ... \u001b[?25l\u001b[?25hdone\n"
          ]
        }
      ]
    },
    {
      "cell_type": "markdown",
      "metadata": {
        "id": "DrqzCSTJC40-"
      },
      "source": [
        "## Import the necessary software libraries:"
      ]
    },
    {
      "cell_type": "code",
      "execution_count": null,
      "metadata": {
        "id": "Cbh-c7IHC40-"
      },
      "outputs": [],
      "source": [
        "import numpy as np\n",
        "import matplotlib.pyplot as plt"
      ]
    },
    {
      "cell_type": "markdown",
      "metadata": {
        "id": "a22nOk3cC40_"
      },
      "source": [
        "## Initialize the environment"
      ]
    },
    {
      "cell_type": "code",
      "execution_count": null,
      "metadata": {
        "id": "6n8qd3UYC40_"
      },
      "outputs": [],
      "source": [
        "env = Maze()"
      ]
    },
    {
      "cell_type": "code",
      "execution_count": null,
      "metadata": {
        "id": "WIf-YFv4C41A",
        "colab": {
          "base_uri": "https://localhost:8080/",
          "height": 516
        },
        "outputId": "2d220193-df96-4a4f-f5e9-5bdcada2b9af"
      },
      "outputs": [
        {
          "output_type": "execute_result",
          "data": {
            "text/plain": [
              "<matplotlib.image.AxesImage at 0x7957c55d3cd0>"
            ]
          },
          "metadata": {},
          "execution_count": 4
        },
        {
          "output_type": "display_data",
          "data": {
            "text/plain": [
              "<Figure size 600x600 with 1 Axes>"
            ],
            "image/png": "[encoded data removed]"
          },
          "metadata": {}
        }
      ],
      "source": [
        "frame = env.render(mode='rgb_array')\n",
        "plt.figure(figsize=(6, 6))\n",
        "plt.axis('off')\n",
        "plt.imshow(frame)"
      ]
    },
    {
      "cell_type": "code",
      "execution_count": null,
      "metadata": {
        "id": "JlaI_roFC41A",
        "colab": {
          "base_uri": "https://localhost:8080/"
        },
        "outputId": "424e68f9-a179-40b0-8719-0d53f35bd83a"
      },
      "outputs": [
        {
          "output_type": "stream",
          "name": "stdout",
          "text": [
            "Observation space shape: [5 5]\n",
            "Number of actions: 4\n"
          ]
        }
      ],
      "source": [
        "print(f\"Observation space shape: {env.observation_space.nvec}\")\n",
        "print(f\"Number of actions: {env.action_space.n}\")"
      ]
    },
    {
      "cell_type": "markdown",
      "metadata": {
        "id": "qVJJ6q1HC41A"
      },
      "source": [
        "## Define value table $Q(s, a)$"
      ]
    },
    {
      "cell_type": "markdown",
      "metadata": {
        "id": "ORp1YH_aC41B"
      },
      "source": [
        "#### Create the $Q(s, a)$ table"
      ]
    },
    {
      "cell_type": "code",
      "execution_count": null,
      "metadata": {
        "id": "cgfl90rHC41B"
      },
      "outputs": [],
      "source": [
        "action_values = np.full((5,5,4), -100)\n",
        "action_values[4,4,:] = 0."
      ]
    },
    {
      "cell_type": "markdown",
      "metadata": {
        "id": "hcP6tTxxC41B"
      },
      "source": [
        "#### Plot Q(s, a)"
      ]
    },
    {
      "cell_type": "code",
      "execution_count": null,
      "metadata": {
        "id": "oizc7n5CC41B",
        "colab": {
          "base_uri": "https://localhost:8080/",
          "height": 707
        },
        "outputId": "55dcea2a-aa18-4998-f8db-338f5f3a0151"
      },
      "outputs": [
        {
          "output_type": "display_data",
          "data": {
            "text/plain": [
              "<Figure size 700x700 with 2 Axes>"
            ],
            "image/png": "[encoded data removed]"
          },
          "metadata": {}
        }
      ],
      "source": [
        "plot_action_values(action_values)"
      ]
    },
    {
      "cell_type": "markdown",
      "metadata": {
        "id": "nbaA_FTOC41B"
      },
      "source": [
        "## Define the target policy $\\pi(s)$"
      ]
    },
    {
      "cell_type": "markdown",
      "metadata": {
        "id": "nukJJ4C5C41B"
      },
      "source": [
        "#### Create the policy $\\pi(s)$"
      ]
    },
    {
      "cell_type": "code",
      "execution_count": null,
      "metadata": {
        "id": "olq0oBdtC41C"
      },
      "outputs": [],
      "source": [
        "def target_policy(state):\n",
        "    av = action_values[state]\n",
        "    return np.random.choice(np.flatnonzero(av == av.max()))"
      ]
    },
    {
      "cell_type": "markdown",
      "metadata": {
        "id": "cOZ1tTwDC41C"
      },
      "source": [
        "#### Test the policy with state (0, 0)"
      ]
    },
    {
      "cell_type": "code",
      "execution_count": null,
      "metadata": {
        "id": "_voDy9c_C41C",
        "colab": {
          "base_uri": "https://localhost:8080/"
        },
        "outputId": "868723d7-683f-4b6b-af66-0b92ab24800a"
      },
      "outputs": [
        {
          "output_type": "stream",
          "name": "stdout",
          "text": [
            "Action taken in state (0,0): 0\n"
          ]
        }
      ],
      "source": [
        "action = target_policy((0,0))\n",
        "print(f\"Action taken in state (0,0): {action}\")"
      ]
    },
    {
      "cell_type": "markdown",
      "metadata": {
        "id": "NFwZnXnuC41C"
      },
      "source": [
        "#### Plot the policy"
      ]
    },
    {
      "cell_type": "code",
      "execution_count": null,
      "metadata": {
        "scrolled": false,
        "id": "YD94lrg8C41C",
        "colab": {
          "base_uri": "https://localhost:8080/",
          "height": 414
        },
        "outputId": "2e1458b1-361a-4f17-af25-a683ca79dc30"
      },
      "outputs": [
        {
          "output_type": "display_data",
          "data": {
            "text/plain": [
              "<Figure size 800x400 with 2 Axes>"
            ],
            "image/png": "[encoded data removed]"
          },
          "metadata": {}
        }
      ],
      "source": [
        "plot_policy(action_values, frame)"
      ]
    },
    {
      "cell_type": "markdown",
      "metadata": {
        "id": "OpF1hK0pC41C"
      },
      "source": [
        "## Define the exploratory policy $b(s)$"
      ]
    },
    {
      "cell_type": "markdown",
      "metadata": {
        "id": "D1fgpKHNC41C"
      },
      "source": [
        "#### Create the policy $b(s)$"
      ]
    },
    {
      "cell_type": "code",
      "execution_count": null,
      "metadata": {
        "id": "peLw01SNC41C"
      },
      "outputs": [],
      "source": [
        "def exploratory_policy(state, epsilon=0.):\n",
        "    if np.random.random() < epsilon:\n",
        "        return np.random.randint(4)\n",
        "    else:\n",
        "        av = action_values[state]\n",
        "        return np.random.choice(np.flatnonzero(av == av.max()))"
      ]
    },
    {
      "cell_type": "markdown",
      "metadata": {
        "id": "freAhtDgC41C"
      },
      "source": [
        "#### Test the policy with state (0, 0)"
      ]
    },
    {
      "cell_type": "code",
      "execution_count": null,
      "metadata": {
        "id": "MDAK-2nxC41C",
        "colab": {
          "base_uri": "https://localhost:8080/"
        },
        "outputId": "c41686f3-c137-453b-cfa8-a7adbe089026"
      },
      "outputs": [
        {
          "output_type": "stream",
          "name": "stdout",
          "text": [
            "Action taken in state (0,0): 2\n"
          ]
        }
      ],
      "source": [
        "action = exploratory_policy((0,0))\n",
        "print(f\"Action taken in state (0,0): {action}\")"
      ]
    },
    {
      "cell_type": "markdown",
      "source": [
        "#### Plot the policy"
      ],
      "metadata": {
        "id": "b-8GPBPTDdiG"
      }
    },
    {
      "cell_type": "code",
      "source": [
        "plot_policy(action_values, frame)"
      ],
      "metadata": {
        "id": "IUQ7uj_lDdqj",
        "colab": {
          "base_uri": "https://localhost:8080/",
          "height": 414
        },
        "outputId": "10f2afe1-c3b7-4644-becb-ec9818c421bb"
      },
      "execution_count": null,
      "outputs": [
        {
          "output_type": "display_data",
          "data": {
            "text/plain": [
              "<Figure size 800x400 with 2 Axes>"
            ],
            "image/png": "[encoded data removed]"
          },
          "metadata": {}
        }
      ]
    },
    {
      "cell_type": "markdown",
      "metadata": {
        "id": "2SQoXrmcC41C"
      },
      "source": [
        "## Implement the algorithm\n"
      ]
    },
    {
      "cell_type": "code",
      "execution_count": null,
      "metadata": {
        "id": "2Eb9IQLDC41C"
      },
      "outputs": [],
      "source": [
        "def off_policy_mc_control(action_values, target_policy, exploratory_policy, episodes, gamma=0.99, epsilon=0.2):\n",
        "\n",
        "    for episode in range(1, episodes + 1):\n",
        "        G = 0\n",
        "        W = 1\n",
        "        csa = np.zeros((5, 5, 4))\n",
        "        state = env.reset()\n",
        "        done = False\n",
        "        transitions = []\n",
        "\n",
        "        while not done:\n",
        "            action = exploratory_policy(state, epsilon)\n",
        "            next_state, reward, done, _ = env.step(action)\n",
        "            transitions.append([state, action, reward])\n",
        "            state = next_state\n",
        "\n",
        "        for state_t, action_t, reward_t in reversed(transitions):\n",
        "            G = reward_t + gamma * G\n",
        "            csa[state_t][action_t] += W\n",
        "            qsa = action_values[state_t][action_t]\n",
        "            action_values[state_t][action_t] += (W / csa[state_t][action_t]) * (G - qsa)\n",
        "\n",
        "            if action_t != target_policy(state_t):\n",
        "                break\n",
        "\n",
        "            W = W * 1. / (1 - epsilon + epsilon/4)"
      ]
    },
    {
      "cell_type": "code",
      "execution_count": null,
      "metadata": {
        "id": "KiZKXToPC41C"
      },
      "outputs": [],
      "source": [
        "off_policy_mc_control(action_values, target_policy, exploratory_policy, episodes=1000, epsilon=0.3)"
      ]
    },
    {
      "cell_type": "markdown",
      "metadata": {
        "id": "CYxFltRiC41C"
      },
      "source": [
        "## Show results"
      ]
    },
    {
      "cell_type": "markdown",
      "metadata": {
        "id": "Tal5dKjHC41C"
      },
      "source": [
        "#### Show resulting value table $Q(s, a)$"
      ]
    },
    {
      "cell_type": "code",
      "execution_count": null,
      "metadata": {
        "id": "iv-WsX5aC41D",
        "colab": {
          "base_uri": "https://localhost:8080/",
          "height": 707
        },
        "outputId": "7fed1354-3f31-44ca-e77c-21da386060e7"
      },
      "outputs": [
        {
          "output_type": "display_data",
          "data": {
            "text/plain": [
              "<Figure size 700x700 with 2 Axes>"
            ],
            "image/png": "[encoded data removed]"
          },
          "metadata": {}
        }
      ],
      "source": [
        "plot_action_values(action_values)"
      ]
    },
    {
      "cell_type": "markdown",
      "metadata": {
        "id": "YiqFH-AqC41D"
      },
      "source": [
        "#### Show resulting policy $\\pi(\\cdot|s)$"
      ]
    },
    {
      "cell_type": "code",
      "execution_count": null,
      "metadata": {
        "id": "uUV8g2HmC41D",
        "colab": {
          "base_uri": "https://localhost:8080/",
          "height": 414
        },
        "outputId": "74312612-0c8d-45ff-c517-5788fca86658"
      },
      "outputs": [
        {
          "output_type": "display_data",
          "data": {
            "text/plain": [
              "<Figure size 800x400 with 2 Axes>"
            ],
            "image/png": "[encoded data removed]"
          },
          "metadata": {}
        }
      ],
      "source": [
        "plot_policy(action_values, frame)"
      ]
    },
    {
      "cell_type": "markdown",
      "metadata": {
        "id": "s0ZNhRacC41D"
      },
      "source": [
        "#### Test the resulting agent"
      ]
    },
    {
      "cell_type": "code",
      "execution_count": null,
      "metadata": {
        "id": "MsWhGY79C41D",
        "colab": {
          "base_uri": "https://localhost:8080/",
          "height": 521
        },
        "outputId": "00c684d1-2dd5-4953-f724-c081e0a95be6"
      },
      "outputs": [
        {
          "output_type": "execute_result",
          "data": {
            "text/plain": [
              "<IPython.core.display.HTML object>"
            ],
            "text/html": [
              "<video width=\"500\" height=\"500\" controls autoplay>\n",
              "  <source type=\"video/mp4\" src=\"data:video/mp4;base64,AAAAIGZ0eXBNNFYgAAACAE00ViBpc29taXNvMmF2YzEAAAAIZnJlZQAAtwBtZGF0AAACrgYF//+q\n",
              "3EXpvebZSLeWLNgg2SPu73gyNjQgLSBjb3JlIDE2MyByMzA2MCA1ZGI2YWE2IC0gSC4yNjQvTVBF\n",
              "Ry00IEFWQyBjb2RlYyAtIENvcHlsZWZ0IDIwMDMtMjAyMSAtIGh0dHA6Ly93d3cudmlkZW9sYW4u\n",
              "b3JnL3gyNjQuaHRtbCAtIG9wdGlvbnM6IGNhYmFjPTEgcmVmPTMgZGVibG9jaz0xOjA6MCBhbmFs\n",
              "eXNlPTB4MzoweDExMyBtZT1oZXggc3VibWU9NyBwc3k9MSBwc3lfcmQ9MS4wMDowLjAwIG1peGVk\n",
              "X3JlZj0xIG1lX3JhbmdlPTE2IGNocm9tYV9tZT0xIHRyZWxsaXM9MSA4eDhkY3Q9MSBjcW09MCBk\n",
              "ZWFkem9uZT0yMSwxMSBmYXN0X3Bza2lwPTEgY2hyb21hX3FwX29mZnNldD0tMiB0aHJlYWRzPTMg\n",
              "bG9va2FoZWFkX3RocmVhZHM9MSBzbGljZWRfdGhyZWFkcz0wIG5yPTAgZGVjaW1hdGU9MSBpbnRl\n",
              "cmxhY2VkPTAgYmx1cmF5X2NvbXBhdD0wIGNvbnN0cmFpbmVkX2ludHJhPTAgYmZyYW1lcz0zIGJf\n",
              "cHlyYW1pZD0yIGJfYWRhcHQ9MSBiX2JpYXM9MCBkaXJlY3Q9MSB3ZWlnaHRiPTEgb3Blbl9nb3A9\n",
              "MCB3ZWlnaHRwPTIga2V5aW50PTI1MCBrZXlpbnRfbWluPTIwIHNjZW5lY3V0PTQwIGludHJhX3Jl\n",
              "ZnJlc2g9MCByY19sb29rYWhlYWQ9NDAgcmM9Y3JmIG1idHJlZT0xIGNyZj0yMy4wIHFjb21wPTAu\n",
              "NjAgcXBtaW49MCBxcG1heD02OSBxcHN0ZXA9NCBpcF9yYXRpbz0xLjQwIGFxPTE6MS4wMACAAAAF\n",
              "MWWIhACf2WdBBMcSgR79PWMxFJhtRQC+1MOxfqRffl+BIGYSpbn04L89reMR6l2wAAADAAADAECn\n",
              "OiagH/jHhnJs3HXkrrQfF5oa8HLd82/vrqnbi9C9vrFggyET+x4Q25j0yND/U4k9M1R0FXm6Lrv0\n",
              "aD/rR83P2BK20vKWX+HkwEbSz9RfrXptVXY+5G7HyoGY9chS34e75Txzfpq1RM27zE3s57b38aFj\n",
              "OwhgHj8mm2atPwNkg4hAwFSzpmNFm+tKbRv/lOAAAm43JrZDa0QCwtM94JXXFM2qwBKZnoWASi1O\n",
              "7PSeWvSSKl4NN9TC+hf+KmRJFgjINlLerUF/wGOVIP46zEbfTmDMz5PxKag4QcI13a5w41BH4u4/\n",
              "yWQAAAMDxrqgsqU2+tlF7vaDtRHXGYp9ePessE8YgLaOtgsBNjaxMRK59BnDQ4w+YdrBosX5JByk\n",
              "6V+Gc0mQgABO1bf/KpErW7HtRJ+LX2McvPeogm2Wpo+HqalEgttqNfI0159kYIYyVpk0Q3AiiDH1\n",
              "LIMZFtURtxN/B92HdRtaPDZ8JAoxhM6raAxcvPiDeYsJhn022FTfOKKIqSS3I6xaCwQDYuT+VQg8\n",
              "oXl3u7Te7whOgQl2wAFEluxNDnFp9z5wn0cz0HbEgq0SxzsUeHfN27lAlE7xgFE2/tSFAkKRlQjK\n",
              "yIh33rzuonMvSFMu73tr1AocGyY/Oo8jL/pIT1XIyTtk1RuJsGCkjergHPm8qhkAlGPjMruvPqal\n",
              "fqCKA6xvhcTulTX8Cp27Ukbt227RyxXEdXQ0kb6LcpO6DRMQ51MSroL+tChjnQ9Z9KNGl0WftPRf\n",
              "ZKm7dR62VSPolXBrLj0sv2APG2a61GBDJnbEv4eyIB0MtHQj1gFeCPg/wumy0ExSW7eamIMv6maJ\n",
              "zkZpB1pr/azNy1xCN2CLySIW5boKPnj7ZDb8Swq7MQ2iMEDeTwv38KdvNPlZ+KWWUtyga7omR/1l\n",
              "Eo1vkuaYgekxlywe049t/7UfVP4XQvaKqR1WhFlRliXgrtfftfyj41l/LboFK2ue2u2sBZ3KbqWm\n",
              "0zHqCKdeQVy2rd8a7W0XtKvWfPre4dDYuia2IdALcav1ETKXF/Z95ywOOjCDq5+vGmfwix2gXTcX\n",
              "rmdKoVaOQEhJRiW+r5YPNp7TaeUoBXJ4GMZW6HlEYGRL3r4wGsTwXVzps3Sl3Vmlo56cepIX/Zer\n",
              "MJARCgAANhJBQiKi8QSN3UlAzqKL9W1fpZni8iMG2Itmv6jqRZ+9n1wariSYodVkw1bxeEZS4ltz\n",
              "QXTKVvFqrx5AP+ZaPru8xlOFWd9vmsCS8bzAqiNJg2hyHOTa0I44H/PvU4oxlyvVs1BSnhWpjzwB\n",
              "nZnjKvKQe8VzdBZgD0K/WsK3eBxpM5pFVUl/AcT8tFcq8/rPHvcqH8P2PqeSgbCP6rZ3FKCQmKK3\n",
              "dKCYMHs48f5sFZDGpIJHkWMdvDDBgvXx7wzAXfTUgiv+NHki9gBRdGP7W0OYc+XoSfsUmKbnKKe1\n",
              "tuRjaAWjIJocE4tF5AJIUJ0ZPfiu+NIgAP5ZArxC22vn5NrfSMJthtUrW4ciRvKcpzmgCTxqG/tb\n",
              "1UU8kBPRbukVNnFA6C3QypOqSRSL4Ib3bcnAsF0NHRoWUCh7Pc4GSbVqIptsEcPRB39IdlIAel+l\n",
              "laVkzG/isPSsz3hCtQ+V+zTWaCJURem+iqmFvjPEWc0ksqBk2iwpIomfOFDrhFUqaBuyA6mh73BE\n",
              "gOSP9GpPpADIBiiP9LX3fA1hgQAAAZRBmiFsSf8AHeN61YNkEcZDcTsrfMztMjE2mAQ/oQn/sVzX\n",
              "rdpW9GJKRe9CdJRNb9+IlESR30HDkaV6Ownz560j8RjiI81HDTgg0i5Y0FYxzEE/8aLuesni6e73\n",
              "fk2VwcXutPxgdFuhZrLfAVkx3jlaqbxlkqq42OcMdJnUSvWj1nLMame/1VEi2adKxcv4y2HCRhBa\n",
              "ZaRcanooyQSmmztCue5K081LNVFkf4n0mT3dG85auZgTwIjinoYOL7y68XU4RI3lGQYa8RePzbJf\n",
              "qpmPzeQsVQVO9kV/RaLSEUNQSKEUbZ/7JIRvaw8kg+6eMJEr2UmdlTSUSoza2KRgUeDSpXF1//VE\n",
              "SX9D3mEV1Q6FVwYE7WNIMSNiULru+XQqPfsUv243ivgE2zvzAxYbUPZvCdWGIAsZuQgITiEjM1W/\n",
              "SWB0OOPBYCndUHhl79wAAcgpuAe5dByQiBbT/QVJL45xHgkVN1TrbKfC84rQ6jVcMwTkl8MDRfG+\n",
              "PkuN7szU7AAAAwAAAwEVlKoAMSnBCmi63PHDtQAAAbJBmkI8IZMphJ8AACA53CAa8GzsVy/AptDN\n",
              "Vjmwb/1/Sel8TAEK6pgJmWG/Mkg1j4QG9Mee7r7XGfZ0JF8lgleeaGHg22j1zKVRgBOi12Odtfm/\n",
              "fxx2LMaaDKMK1yAndVHin1v0JbJvAKRJMuhtiIcizYv+WgGyr/Ow5AbNKWjTA3YKy1CW+OeuONS3\n",
              "h2OuTYMJaEeYWga4LnChohbPEFJoeA1r9hs1CnNBPdCPDHgPr9+DrvRDZramI7emA1/FVa5l7/c3\n",
              "L+A++McqMrXJUguSTouAjCHoH6Y782DAJD7gDE+1eg6ILV7H9FrkPSxqgR9Gzh2m/v5H6q+L9cRF\n",
              "D/7dI3TLDkvKI+Oqk/D43iCIdLETkif7CGNneOp5/BOpjJShEz7nE+tdpkZujYI3Limc5VHKjrJ5\n",
              "jMOL9OW4ksog5KXqlhhnE9m6aM17D7CqQlt+I2nfSSoDoE6r0erv6wgRZ0pFzJFrsihis+XThkC2\n",
              "fAhwsufnS+eQIPLhK3ZOChfw8YbDveVE5GnKNumeZ2AzXHjsXhW/PbAMTf/s4v2PAkukmyinSBdU\n",
              "qBId3xPKQQBxwQAAAadBmmNJ4Q8mUwJPAAADADqf5TouWjloVs1JNJbiH2H71qQBAkp3Rwz5yHW7\n",
              "fxghNz2UdHFZiYLNE5yPZ+l1Ves82SFVjcyRtndeJ9ZXdIGj9IboDc1rVBE3BoLPMC7wqR+14uMQ\n",
              "DKTXDdILEfxxEU38YtV1TIR5BtWt4HpVzLyKIEJF69QXvAlbcfNJbO20neWhf/rga2zNu7pFHAwr\n",
              "vvZ9HqzkSPBEjGMqr1dIWiHqeF4yctDiTKyb3+h4L/I2Qyo2d1ASGsupejPmrBs8hgeG42doqnZf\n",
              "A9+CVoWGUFl3NtymiU9//X/nYtScWIq+771zVYZhFVPfKJgQKiiXJR1+2A2/0xEMOX4/gsmKBM3+\n",
              "XXbsYPdLdqpJ9BZDxcWGVC9CPaiivsu1C2z/FlhiyOXNGVF7pI28JUgYZNnpPTl8CCKbgJgga0L8\n",
              "mrxIbHVN0opI5OQZP3AT7rXDVxoZh7TCIhMt7sinKxMZMwy3q09phMuxViYand06KWjm3o73At1e\n",
              "bYtfRjhdsb2OP3C342eAMRkN9/uoxFwBH8Hp1NxTP72+pt8QesAAAAGSQZqESeEPJlMCTwAAAwAA\n",
              "ar/Llg+fVXDJpsteEi78VgOIBCeFr2Mtk0EAjZ+cD3+S0KuwuX06Kp1lHscLyoGLPlSBPr5jHqvS\n",
              "+ab5yv/LD8QfLYi1gIOpxoi/zvFB7Zh4+qI9F9gUK0TCSqnSvpUkR9dgoXcEiBKPSGriySSqAkxj\n",
              "4SwZa05sPaocyp501yVoY4/e8pBXQRRGoLb8aiFojbpXJfquuvluctPk+KFqpD1hqeLR0Hhp/w1C\n",
              "tGEiAzcA0itU0uIDy22awT78ObViAEM6yUZoSuknJ2r//3ZxBB5vCuaimmatkCBJc9xP/JStbgK6\n",
              "meiibOhUBqgRGE7fiPh+sAYyvpOEpPRWu45j48VSBH6ZBNmYcI40OUDxTshfMiGZvkC7sehMXYRG\n",
              "SbcuYmy3aTBYrQ6/uC7mJzv+ubZfv9QARvKzu+fh+5j5h2GFoLYIP4BXwe19tw0FIhFsD50mW1Nq\n",
              "0xXdjT7A+2y5AuHWaWp+UFBZJ1F55rIfx1YGaItg1OBuHpt7ZqKX3OOxfqYNAAABhEGapUnhDyZT\n",
              "Ak8AAB1P8t6QEcHyOTHj+gCj0+Iip+aLkqS1nGDNr95l9i3/dbenUIDJiMNzyyOWBvz+OqJPxB14\n",
              "9aLo4t7lmmLZeUqpA5wNJb5kyi2E5VSNfLK6kPyx8bkq6KraS+0OR50NfkythUVafdA02pwqVi24\n",
              "cfDLg5VYwZWGBkGAtXjBe9nMRNfIEnU800/i/qUDjuqgcZ13f0NPA0fSULMHWzzH4b43t6dyKZCa\n",
              "0iwxH0pG6ZhxknwgUadWdM7cQ0AlN1AKFhtBGf433R7LkQC+7v/LAb/3C2UvhlQOHWvpKcxwVxCP\n",
              "XuWKhaQ+sKE2Jpff2yPbsHYZLaK4NLCZLGvXhEAoJ5X8dRckEUmoWJBoPawSLgHqTxsUpGbYUkWE\n",
              "D/Y5E76A/Z28Am1znOFrLf7umKbgywVTZU0DktilQG09DER0OOLJpyv8nX4cTrSW22iLzVggmB91\n",
              "TEaC8mzNP2SeBisVecicS+EuUw64wmGrZyJ8YcT9PRwDVcnb9dEAAAGVQZrGSeEPJlMCTwAAAwAA\n",
              "NL8hudlv8VezjR/NOTkIbQ7nZVRFJm0BwEwPsE226SIoxjkdMXH0P1A9VyFvUvRYm0PFdI2YuymQ\n",
              "3MBgCpvVtKL6QrMdQK/UZB2k1PrNr8iTyhjkKs9CFA0QB+q0IJ2QWxrwtkVqCndlo/6ujDt4W29V\n",
              "fx06c/onPr2sJwVQCLKQSr+a6SRy3GQBurUPCLU2EJ7MPKA7toBGlLxHvkEOfy5xY7BbONJ01QK8\n",
              "DPXpAb0Q23Isewv0mNEV7oMxLIcD+vb6oGJew+GdMBGHWzelWnkCAAGQaVt2bIEqmu0bpia7ASv5\n",
              "wpRVvy+PpXg3j1oPJZ/18w02R+ctNoIzb/ja4CL/7gBst35PS6jLiuSAKLlA3yR8J+eK3L5zep5l\n",
              "DoApxpg2OXrT8UkmGqpvMwvBZ3oO5Hu7EGyyUfxMaOShApCinZmsF4xs5Pyn+VIguO9EBWp67/sX\n",
              "u87sj18jUUXXqHTqTWZaD9zuR8Mm65R5eW4bOF+AsD5oY7ld3Doq+b8ENn1eEwq5AAABpkGa50nh\n",
              "DyZTAk8AAAMAAE55Y1EXb+MEJueyj5g2jWAkKZPkvtfXX9Pz5XiInQKFs0/AVR797HPZnO9RJUni\n",
              "mcV0je8+n0edl++VZaDzZ9RT+kPfW0Z+KZ1B8t71SkH95wslYAegaEtIKbq64hlQTzK5JlK6P4P7\n",
              "H1KQvjkurVHGMCougy3r7vV3TBAQBeWGwaq0URSwzmThBZruf0w5ouXNjHhXA1VA8UA4cyAxmP0Q\n",
              "zBfZDn74XTuaid4p53EKy/nRGtMcIJJoUdH1Bq/POdb+kIOllHYPd7JX3VWZGHZnZjL3VcK0y+74\n",
              "R9AIYgFT5N+jS08NWJckC3/N19PBqcMKqZtmNVM8RW54H3cUJUYvyZ/RYMkgGyBQk7fE+fW5a1Bw\n",
              "OIYJ1XmZtzr2uDB2iWBupZEkjn6Bk4R+51e64aFHlJT5GpPyjyZYM3SQ2kjzVTpdm7+BMiWmWOcO\n",
              "uq0Ck8Te33LKMri8V4jfM6KWCUKxouoQunbVn9TUFuO/RkA4JakMGiYNG66S9d4HDwsenaB/7mnr\n",
              "ZpWTisWdAFe4QyAF2Cq/rLM1AAABpEGbCEnhDyZTAk8AAAMAAE2TBO+jTdu/jBCbnspHF7ciB8PV\n",
              "2FRp/3AG0xPHKxETUP6mwTc6yNMYvlcaMWMchdQ2VUfaI/lDcXxeruo77yaUBqK7MGcgWP5DdnNq\n",
              "EZtGShozh45AQFCcyGOPj/3EfzH8TjI2ruHxjg7oD9BlwNOSeHweOEfkwSfK9Fyrxu58+Ipzf1iX\n",
              "noejCYlc8s86ut6O7hAZie8f25Bmh2/wbH39wevIrAYTBJv1FuZ+n6HweY2AdiAy1vykoMwziuDv\n",
              "zS3ZE1TMX1DY4MpgxkRwpJrSRx48i4a2BoRI1jY10ouQcZb3A5++XgADVpgSQHZkwJOlNj623JQl\n",
              "0uvtBLQ8QZkw4vTEiMSJlWWcKhwwXjoAXekZrXqNaBFuj7EPTgNI3pGEm2Sim2uQAIC/OpRESbjg\n",
              "7zm8EPUBr3f2e95e3csnSoYBsYmhqSIst4Sys0geb7vWFVlCHIbazOPtrMVLfBjzmBlWtoc2pTIy\n",
              "jt2caqn4NsF/1kOi2kcL4MfeDFtoA3svufnO94tq+mxj3C3m2BCQAgaCSAAAAahBmypJ4Q8mUwUR\n",
              "PJ8AAAMAAEGTALLGrv2/jBCbnso6ONFpq9+HCgCk6H/j4s4PzlIyS4j2HMtXGebJCqxuZJJbVVqW\n",
              "67pA0fpDdAbmtaoIm5V1SkJd4VI/a8XGIBlJrhukFiP44iKb+MWq6pkI8g2rW8D2JjYxU1B7F+vK\n",
              "aUfUk2LTSWzttJ3loX/64HkxtXdx8b1F9dtvcq3DLxyJHgiRjGVV6ukLRD1PC8ZOYW/3v7P7Z3Dq\n",
              "lWHOJ+fPMGvlTSg6srDdxYdbYV6M+asGzyFvPH4wuLjeyazCjFrwDGdnNtymiU9//X/9037SSNRV\n",
              "94RzycQ0EsLaOUTGI1mfAAAJ6bK83QBV4l3j2HH9/Ktxh4LJigTN/l127GD3S3aqSysyInoS6Kpc\n",
              "eKJXneCkM1s/xZYYsjlzRlRe6SKEXDsoteC468rgIFI6joAU0zgJrZKWHG4G0SQ2OqbpRSS6OQX5\n",
              "Ch4yTVBdjQzD2mERCZb3ZFOViYyagmT/rNCvGo/7oywnu/WKh/U7h5QIf8gBLXR7H1vkQkqxrxiM\n",
              "hvv91GIuAJAhtVEZERfwAAAAMwGfSWpC3wAAAwGToOa/lyuJ3fzbGW6/kNfEU0egkknbsdiwhNGQ\n",
              "t/4ElOgLZgiERacK/wAAAV9Bm0tJ4Q8mUwJPAAADAAA3Rpd0JjT4n4sczJLGFAa/X4yqlOGgkifn\n",
              "5t/6qUBR2laF160CeYRKBiz5aNbbMt84j8nL4dguR2RHmEkcRckA+iG2DpDxyAPmqh3weMZpd79t\n",
              "t2KCsea+AKNXDOX0bVn2KdMGqp6/AggsdwoBtKP+hcTdTEew0mHRXDmBJsdcH1TZopuQLzmHkzMp\n",
              "39zm+3ttomQQrDC0afbo13KPlMD71X/JO0ppoax5TauPt7o7dgzo3TKcUJ5C5/XPFTMHOoFph2VH\n",
              "Ry2O/5cJZOfyN3VvDVTPjGAjC1fYs43QMEKLJYdq+fSTUkJ5AMuDuaYZ4WI8f02qU0dKln1rlpXd\n",
              "JUYgx7WlB53LEesd1VUJOHWsm/GJmGlDaMG8sNX7r2Vi6i6jI7M7RlZQ0kEQJirZ+N0NxhqyjwGy\n",
              "EuoIHGHj/0J7QnXq+2PyJ0sDgqx224uY2MAAAAGFQZtsSeEPJlMCTwAfPAhoFH+CoQq7C5fToqnW\n",
              "UexwvKgYs+VIE+v6kqyZvGG9BX/liJjXL8F979jfONEX+d4oPbMPH1RHovsChWib8piRUvHjMaYY\n",
              "puAxdwSIEo9Ia8x7zTjfiKC38PK05sPaocyp501yVoY4/fBjivntfxwkh/nC+GyvjRXW2ojMH0GS\n",
              "r+J4oWqkPWGp4tgVeoDentGEiAzeELvnde3IntjIMKCHNqxACGdZKNDiwV+FsHz885ozVjx+OfBZ\n",
              "gR2p6URtZ3HpKLOjNZDTLX65FaUTZ7k7mw5V1+GnlkmrpjOGhiCIwgWb2zrF66zn7I6POZUuBxTP\n",
              "leTVcRGMUB0hVojyH7AniF54q1eWyhtJpdvCLzzxnEMiwtkG5pIN39H9cz+U+c+VE5QeZ+e0HV2k\n",
              "/54fnTrN2NrYn8Y1c2pKeJw/HVzsboM/fFRQZddbKL/4JDjo1XXUHl9auHI6Jzces4L6UAAityEd\n",
              "qHXK36M12lvUGHCwjSwO8iYMg4AAAAF9QZuNSeEPJlMCTwAd1wXpfeO1WDnG6ywlGxwyTANYPrRf\n",
              "7oQHuDbruaCrVJSiJI76DhyNFA656Ql07C/xa531qkdrRRpFyxoKxjmIJ/40Xc9ZPFYnMVebkIpv\n",
              "r3Wn4wOi3Qs1JJgUkuEGxr+QBJusquNjnDHSZPKBYGTD6zGpnv9VRItmnSsXL+MthwkYQWmWkXGp\n",
              "6DBhgd8piK57kpwzLUgSGgR66r7OTTaLoiAa/3gRHFPQwcX3l14uqa6RKhP3B+w2Uerf7PVOY/N5\n",
              "CxVBU70BsUUvGgpW9OlgRRtoAwkhG/411aq7c2puWEm/7Ou6SiVGbWxSMCpYaVK4u3y/wLJf0PeY\n",
              "RXVDoVXBgTtY0gxI4cv0F9T1MPtJkVBRwJR71g5ZE7gyMyyqHa/LYdigWM3IQEJxCRmarfpLA6HH\n",
              "HgsBT52EWIU+4AAOQU3APcug5IRAtp/oKkl8c4jqGOdkIwD2tnHlDUi5GYkIn2/danCSqcXwANUD\n",
              "Oe3cB21/AAABrEGbrknhDyZTAk8AAV3/ZLsFnSAa1cLijHiQtsD34/undAUk/dvQ8AffK+w7lS/x\n",
              "K94HK84Jm/Pd19rjPs6Ei+SwSvPNDDwbbR65lKogdb1icfu2vzfv447FmNNBlGFa5ATuqknjyRBS\n",
              "gDEloRFJ7n0TELT/EV/kUJsq/zsOQGzSlaMYHTwbLUJb456441LeHY65Ngwlof5haBLgucKGiFs8\n",
              "O5y18DWv2GzUKc1Dc0JE7Ln9fvwdd6IbNbUxHb0vI6WbRfXq7PZc+Ef3xjlRla5KkFxhdbk5R+aB\n",
              "+mO/Nf7lIfcAYn2r0HRBavZTddpOPyAX8MF2cO039/DSiKGrb2Aof/bpG6ZYcl5RHydDT8PjeIIh\n",
              "0RtOSJ/j8hs7x1PP4KTeGDM8mTXbX8qILj2AMqqqpy4cL7KjrJ5jMOL9OW4ksog5KXqlWSCw5D3f\n",
              "bc7iGFUhLb8RtO+0itu0J1Xo9Xf01AizpSLmSLXZFDFZ8umUgY8Nz9isufnS+eQIPLhK8ZOChfw8\n",
              "YbDveGlx6Tacz+A9uwfL7jsXhW/Pa+6miBHvdseBJdJNjygEy/IDAAABl0Gbz0nhDyZTAk8AAAMA\n",
              "Op/lOi5aN43HrQrLCQ8n5ZL2tJ4HqTr4ve/jBCbnso6OLMyXFwSd9mV96zzZIVWNzJG2d14n1ld0\n",
              "gaP0hugNzWtUETcsvOvsXeFSP2vFxiAZSa4bpBYj+OIim/jFquqZCPINq1vA9a9GyO4ArpqvUF7w\n",
              "JW3HzSWzttJ3loX/64HI71qyLN6mLreMY8/wWciR4IkYxlVerpC0Q9TwvGTlmt8lZN7+44L/I2Qy\n",
              "o2d1ASGsupejPmrBs8hkjrhMh5YUXHgA0UgqZ690Fl3NtymiU9//X/gJbjgWIq+771zVYZhFVPfK\n",
              "Jgqk3RLlFXJx2IRH3DODl+P4LJigTN/l127GD3S3aqRo0Bf0SLalPe8T970wiqaHzfzYWGLI5c0Z\n",
              "UXuhtBJatcMx6Xo4jsAa0fWKMmFMn1pdeJDY6pulFJIc5Bk/cPNx295bGhmHtMIiEy3uyKcrExky\n",
              "dPeqBZnJmxSCOBfrFQ/qdw7wO/berRPHci1AgqMF5qiISVY14xGQ33+6jEXAEfRGLEE9AAABj0Gb\n",
              "8EnhDyZTAk8AAAMAAG0/ynSW0+rTJ5zBFJQxRdtUMWFfZIH6SvP8WNl0BHy+nRVOso9jheVAxZ8q\n",
              "QJ9fQcyfeNCx2IK/8sPxB8tiLWAg6nGiL/O8UHtmHj6oj0X2BQrRMQHYKIpKkiPrsFC7gkQJR6Q1\n",
              "e6IPIPJikuEsGWtObD2qHMqedNclaGOP3vbJpEIonKpA/GohaI26VyX6rrr5bnLT5PihaqQ9Yani\n",
              "1F09AoefDUK0YSIDN0PW26LSzColts1gn34c2rEAIZ1kozsvx2uTtX//uziCDzeFodOLtBWoECS5\n",
              "7if+Sla3AV1M9FE2dCov3XdDA1cK9FYAxlfScJSeitdxzHx5DUd8grM2ZhwjjQ5QPFQv8Rg8RGcg\n",
              "Xdj0Ji7CIyTblzE2W7SYLFaJRzdXuZNXs1zU1zIBOf/1oFYA5JX3MfMOwwtBbBB/AK+cEvuhiTBv\n",
              "esYOWDoP7ajUzsdjT7B1Wy4uvJ0bs3eUFBZJ1F5JXOIq4GaItg1OBuHpt7ZqKX3OOxfrZI77gAAA\n",
              "AYdBmhFJ4Q8mUwJPAAAdT/LekAAeqzpAFIFju5rj11U3SyFrOMGbX7zL7Fv+629OpVvMcn2Rfa0s\n",
              "Dfn8dUSfiDrx60XRxb3LNMWy8pVSBzgPn3UyZSaPaY54GJP6kPyx8bkq8BXu6/T2uMjzoazPrbCo\n",
              "q0+6BrOqRH7Foy7+4C2Pu6NqLjhvvgCTjHvAsokDECTqeaafxf1KBx3VQOh67v6OudNSsNd+/ipo\n",
              "p8N8b2zvdpS3184DEfP4ZP9nGSfCBRqoYlScX+IKU4hU69LAkIwtvutXvUrRvJcjr2Yj7hbKXwyo\n",
              "HFDA6ZFz7q4nubNLF8fvnmRIxATndtm7bsHa6DaK4WnERNq0XaI0EFDD+Omf/H7yQJEy0/BYHta8\n",
              "3kY8/35NsKSLCB/smid+tlXTRBDkXwxa1lv8ZiKcYywVPZU0DktilQG09DER0OOLJf6v9s34KTrS\n",
              "W22iLzVggmB91TEaC9A/kRkBeDCrfuscUuhZp7LRunTMTcCWfGHE/T0cAxs+dk/8nSHAAAABi0Ga\n",
              "MknhDyZTAk8AAAMAAAMATn/YTvPyFTKmZhDaHcvKiJhM2gOAmB9gm23SRFGFWfLUdlQJsD1XIW9S\n",
              "9FibQ8V0jZjA55DcxxIVN6tpurwhWY6gV+oyDvwE/McWHCp0gchVnoQfbCQTxj/70nOFEUxTELA6\n",
              "SVyoLow7eFuE/ypgY3+im6InB77rQdVEhOwj+Jx7luMgDdWofBOkTk0PPJ6CvC7Uw7eM36WvPOMT\n",
              "G56LZtR0j0cgPKfbAgbUWceUaJ38Cclnue3ecJyUTF9xDMkZIxtIC0DjNwhIoAAo5Bgc/ey1bFBx\n",
              "umJ0bl/XsgOGfcKhhRDopisQ50Pt8Bmu1MOUBFAsmbXuFPhxYDfsTPvtcRkTgFHIIHYjWV/xN/As\n",
              "oCvCh5Edbbvg64np8pu4hD4oA5hUFBnWvuCqpm0Zq6G9zcbInQS9jORjPOhHCTGv7vuVPylljHVH\n",
              "qO64hiZEnelLwMFQKtn2V2V1fSLNU3T7X/kZY/OKFRnpoZRr4LG2nsf3JK+cBk16PqMvAAABn0Ga\n",
              "U0nhDyZTAk8AAAMAAE55Y1EXb+MEJueyj5g0Sz6HkvtfXbZtX5XMST4C7Zp+Aqj372OezOd6iSpP\n",
              "FM4rpG959Po87L98qy0Hmz6in9Ie+toz8UzqH5b3qlIP7zhZKwA9A0JaQU3V1xDKgnmVyTKv0fwf\n",
              "2PqUhfHJdWqOMYFRdBlvX3erumCAgC8sNg1dooilhnMnCCzXc/phzRcubGPCuBqqDFsnDmQGMx+i\n",
              "GUT0vdS/C6dzUTvFPO4hWX86I1/jzTBclpYxpaBc851v6Qg6WUc7ilsgQ8+SOBtmdmMvdcHL9ifv\n",
              "hH0AhiAVP18tw3HhqxLkgW/5uvp4NThhVTNstPz7ZbngfdxQlRi/Jn9FgySAbIFCUB0EBQXtE1D5\n",
              "1bIeq8zNude1xdsenTA6jrZ4hIwXudXuuGhR5SU+RqT8o8mWDN1NE2JgI3zmktaIbYM2bTLHOHXV\n",
              "aBSeJvb7lviodj4/a1JM5nEp/Z9k03hC9OWx7iUVxAyvPzLGJoiJqKB/0rc9gVcwYXuIH/uavGQQ\n",
              "g4ewwMCmJ+XqgGyKKXQAAAGdQZp0SeEPJlMCTwAAAwAATZME76NN27+MEJueykcXsrfJ1JBv2wTt\n",
              "joHQ8TZTEknKWtdPpNQaK5/lcaMWMchdQ2VUfaI/lDcXxeruo77yaUBqK7MGQPTd8huzm1CM2jJQ\n",
              "0Zw8cgIChOZDHHx/7iP5j+JxktzlP6Vv90B+gy4GnJje0fZr2J6CT5XouVeN3PnxFObKWOF/BlQm\n",
              "zegDvrlNvR3cIDMT3j+3IM0O3+DY+/uDrfQvwcUL+iLiQ9PtiOceRIqG5AqvKSgzDOK4O/NLdkTV\n",
              "MxfRalBIZuIHRUePLvOO/wlbrWKDG/RlolvyDjLe4HP32uxA3eCHcu8ZJiTo+L+rN+3goNK2CWh4\n",
              "gzJhxemJEYkYXopwqHDBVWAhkxvo8LYAEe8UfYh6cBpG9Iwk2yUU21QjjwNS0qPvvRMRAGkNpWb7\n",
              "d/Z73l7dyydKhCJIFRpow5GjSLMop4T9/Q1TjTZ8V1TOPtrMVVOVv2gUXSRdZ0D/+lRty8VU/Btg\n",
              "v+sh0W0jhfBsbIcriEkjaFHXOd7xbV9NjHuFvXeeH+AAAAGVQZqVSeEPJlMCTwAAAwAAQZK/hrrv\n",
              "xxL9v4wQm57KOjjAK2KXnD2NM+xfxqG+qTt6zzZIVWNzJJLaqtS3XdIGj9IboDc1rVBE3J5d2oLv\n",
              "CpH7Xi4xAMpNcN0gsR/HERTfxi1XVMhHkG1a3geuaAzGyAl4wOuaUfUk2LTSWzttJ3loX/64HY8J\n",
              "MkTNZ7Bsks+5VuGXjkSPBEjGMqr1dIWiHqeF4ycvfiYrR1IcQrkE+Chr5U0oOrKw3cWHW2FejPmr\n",
              "Bs8hfXqBMh8l+yyKHdnFs6/pkoe9CZzaf9KNkN2jdMa/oRV94RzycQ0EsLaOUTNJrgA/I248fixk\n",
              "rHtX2/NEcq3GHgsmKBM3+XXbsYPdLdqpHP9GQJOAdgXuUSvO8FIZrZ/iywxZHLmjKi90rbkq8ZRa\n",
              "8Fx15XAQhYLOulA07kLDjcDaJIbHVN0opJSI2OChqJbV9vQX+flPAuWQTLypkU5WJjJmxDie0/Xb\n",
              "6j/ujLCe79YqH9TuHjq8iBsJa6PY+t8iElWNeMRkN9/uoxFwBH26mNpfAAABXkGatknhDyZTAk8A\n",
              "AAMAAD+XWpSLtYrd/iSlhg2Fy41oxaVUwTQOSkCPnGn/xY0Cq/K0Lr1oE8wiUDFny0a22Zb50QOS\n",
              "Hw7BcjsiPMJI4i5IB9ENsHSHjkAfNVDvg8YzS737gDmUFY818OT1wbh3vpuknF2vfmfgYEEGHqxW\n",
              "KhxZULibqYj2Gkw6K4cwJNjrg67DNFNyBecwvR+6Wkk9XcP1XJhBCsMLRp9ujXcqgJggPqibh17Z\n",
              "Wh5xPmDo8QhmT4juPlQU4oLlEOg/PFTDw1Hk8N/KwuMmqc6b2j58ld/dE4ew2UnlhCHxGfO6BghR\n",
              "ZLDtX1L0RSQnkAyIO5phl8mM8gHg5bt7KUbsvSdrUIXgDHtaUHnhMR6x3L/lAMF1AXl71UdzJewd\n",
              "Sw1fuvZj2DB/TN2egMrKG+AUQja6PxuhuW7p48CGhMKCBiPJmO3faE69X2x+ROlgcFWO2yq6AAAB\n",
              "iEGa10nhDyZTAk8AHzwIaBR/gqEKuwuX06Kp1lHscLyoGLPlSBPr+pKsmbxhvQV/5YiY1y/Bfe/Y\n",
              "3zjRF/neKD2zDx9UR6L69NBJyE8ozUvHjMaYYpuAwUdMJyA9/aGjciEQ3s9YzPaG63HmV252toWk\n",
              "3j0YkJiZBs/kcbX7zl1/wDBo0HL3JlOk95axkrvExmzjmX7a89X/iiTA8185pH0JaRjW7r20uokZ\n",
              "Frz3hVvuufnW5zQJ1VuAxXv7Pzz6LLFj6NBE6LSewVcd5zYMiUb4XI7vRrxAGWzkFv3YbdySm7oT\n",
              "i7OouBaomtexhA+RIlgUwULMKwCjOjbnpEm3P5NAFLSMzu+L+TK+jyM2TSsudKW+flLtX6/JPEkl\n",
              "ACfzK6pw96FvNncq6IwXgbLiErAs7M0gRi7spkx6v/Hplpfzvlz63f4n8YgAugfPosozg0masN9Z\n",
              "3uKDLrrZJPNRcFYraV6I+utxm91pXlqcF9KABh8gzMrS0UZLUgAYTH4mwTlr663ZlNzrAAABe0Ga\n",
              "+EnhDyZTAk8AHdqjlwG+NZkrFKD57XguWPQDVNIQokVzS50Uq1NBVqkpREkd9Bw5Gkq90DIS6dhf\n",
              "4tc761SO1oo0i5Y0FYxzEE/8aLuesniuVge9TxDheF7rT8YHRboWa0BwECXCDY1/IAk3WVXGxzhj\n",
              "pMpxtJJJh9ZjUz3+qokWzTpWLl/GWw4SMILTLSLjU9EG0g6+iWSue5KauVLNVFWZQ4gaj9ptF0RA\n",
              "Nf7wIjinoYOL7y68XVaNIh8Z7g/YbKPVv9nqnMfm8hYqgqd59ZeTnGgpW9OlgRRtn/kkhG/EEDbW\n",
              "cG4wd/XVfrOu6SiVGbWxSMCuMaVK4uyt+gWS/oe8wiuqHQquDAnaxpBiRwnJoL6nqYfaTIqCjgSj\n",
              "3rBziPzQTm7UPZvCdWGIAsZuQgITiEjM1W/SWB0OOPBYCnocHf179wAAcgpuAe5dByQiBbT/QVJL\n",
              "45xHcsc7HRgHtbOPKGpFyMxIRPt+61OElU4vh80uyelSBeUAAAGsQZsZSeEPJlMCTwAAIDncIBrw\n",
              "bOxXL8Cm0M1WObBv/X9J6XxMAQrqmAmZYb8ySDWPhAb0x57uvtcZ9nQkXyWCV55oYeDbaPXMpVGA\n",
              "E6LXY521+b9/HHYsxpoMowrXICd1UeKfW/Qlsm8ApEky6G2IhyLNi/5aAbKv87DkBs0pWjGBuxAG\n",
              "B/dEvtccalvDsdcmwYS0I8wtA1wXOFDRC2eIKlJ8Can4TxrmTcrRKEisYfX78HXeiGzW1MR29MCr\n",
              "Q5TbFl7/c3L+A++McqMrXJUguSTouAjCHoH6Y782A1RobgDE+1eg6ILV7H9FrkZELz3phMGMJP7+\n",
              "R+qvi/XERQ/+3SN0yw5LyiPj4kn4fG8QRDpYickT/YQxs7x1PP4KPM/lT/5Jrtr+VEFx7AGVUhU3\n",
              "LXVRyo6yeYzDi/TluJLKIOSl6pVe9tjKcvKOMvjLD8hhfiNp30kqA6BOq9Hq7+sIEWdKRcyRa7Io\n",
              "YrPl00KzLv2fsVlz86XzyBB5cJW7JwUL+HjDYd7wOZK25Rt0zzOwGa48di8K357XnC4TmBBOx4El\n",
              "0k2UTw6wdXcACbgAAAGZQZs6SeEPJlMCTwAAAwA6n+U6Llo3jcetCssJDyflksW06ZP3N3vfxghN\n",
              "z2UdHFY42vG+/d9dNUnb1nmyQqsbmSNs7rxPrK7pA0fpDdAbmtaoIm4yNtVUu8KkfteLjEAyk1w3\n",
              "SCxH8cRFN/GLVdUyEeQbVreB63WJKO4AvAevUF7wJW3HzSWzttJ3loX/64HLL1qyLN6mLreMY8/w\n",
              "WciR4IkYxlVerpC0Q9TwvGTlvS+Ssm9/ccF/kbIZUbO6gJDWXUvRnzVg2eQyO4QmQ8sKLjvhx2QV\n",
              "RfvKCy7m25TRKe//r/vtgfGLEVfd965qsMwiqnvlEyjWfhzDAPSnhcdiER9wzg5fj+CyYoEzf5dd\n",
              "uxg90t2qkbU0wjo3s/JXvE/e9MIqmh8382FhiyOXNGVF7ogBkdX3DMel6OI7AGxFK3pRBDHzuBtE\n",
              "kNjqm6UUkifkGT9xI3Hb3lsaGYe0wiITLe7IpysTGTKc96n5cyfhCkEcC/WKh/U7h3iN+29WieO5\n",
              "FqBBUYLzVEQkqxrxiMhvv91GIuAI9ihlwQAAAZNBm1tJ4Q8mUwJPAAADAABtP8p0mUkbTtbrbhzH\n",
              "TlmMTY1OEAawKe8vBMT8B6vwny6xT55ru306Kp1lHscLyoGLPlSBPr5uM/Rr/g985X/lh+IPlsRa\n",
              "wEHU40Rf53ig9sw8fVEei+wKFaJhYq7XPSONGAcwULuCRAlHpDV1HhJVASYx8JYMtac2HtUOZU86\n",
              "a5K0McfveL9SIRROYTb8aiFojbpXJfquuvluctPk+KFqpD1hqeLTgZhp/w1CtGEiAzcnuy26POED\n",
              "y22awT78ObViAEM6yUZo23EnJ2r//3ZxBB5vCpinHyk4F2mPHG25XJStbgK6meiibOhUJNnu0wAQ\n",
              "Z9cUUMZX0nCUnorXccx8eOFHfNEck6CrJJ2RtT1J86sYi5BnIF3Y9CYuwiMk25cxNlu0mCxWiMYu\n",
              "C7mTV7Nc1NcyATn/9aBWAOSV9zHzDsMLQWwQfwCvl9L8MKkwb3rGDlg6D+2o1M7HY0+wZFsuSKB1\n",
              "mlqflBQWSdReSVziKuBmiLYNTgbh6be2ail9zjsX6hZAAAABg0GbfEnhDyZTAk8AAB1P8t6QE5t9\n",
              "KS5tz9qP6AKODTH3A2nsUKqTjBm1+8y+xb/utvTpNfsgffw/Fp/PXFi9vRJ+IOvHrRdHFvcs0xbL\n",
              "ylVIHOBpLfMmUWwnKPUfF91SH5Y+NyVdFVtJdyDG6k1b01cFNqtPugabU4VKxbcOPhlwcqsYLsXA\n",
              "0gXoZD0ceHZ6WhRT16tNP4v6lA47qoHGdd39DTwNH0lCy326ZP+G+N7enco8s6mZYh5tgcEGHGSf\n",
              "CBRp1Z0ztxDQCU3UAoWG0EZ/jfc03ABBhz7x0OptwtlL4ZUDh1r6SnMcFcQj17lkhfBSaiRa819/\n",
              "bI9uwdhktorg0sJksa9eEPfDj/+OorGCKTULEg0HtYJFwD1J42UIjNsKSKqEzscid9Afs7eATa5z\n",
              "nC1lv93TFSJFghZXUKByWxSoDaehiI6HHFk05X+eT7R+CjFabRF5qwQTA+6piNBeTZmn7JPAxWKv\n",
              "OROJfCXKYdcYTZzFyWfGHE/T0cA1ThHtJwAAAZNBm51J4Q8mUwJPAAADAAA5PsNSizKXHCzfNmuI\n",
              "yblOGF+azT2URMJm0BwEwPsE226SIowqz5Rj98v1A9VyFvUvRYm0PFdI2YsiJQtkWWFTeraUL4Qr\n",
              "MdQK/UZB34CexEYn17abOQqz0IPthIPT7zHitnCiKYpiFgc7hKd10YdvC3Cf5UwMb/RTdETfw+I9\n",
              "V0m0Qg/8zt0C8ZAG6tQ+DZKc3ZueT0FeF2ph28ZvyWWecYoNz0Wza4ppcFO+rw6G94f4nRzqCD60\n",
              "HfGeAzEshwP69vpLTvK8KMkY2kBaBxm4QicAAZd/HgTvZatig43TE3kT/r2QHDPuFQz2eDeo/rqo\n",
              "xIHw02X2ctNoIzb/ja4CMQzE76NJvS+1xGQsAJz6A3yR8J+JvoFPa/ztxWhIjrbd8HXE9PlN3EIT\n",
              "S1q8Fneg7ke7sQbLJR/ExTucmAS9jORjPOhHCVOWiKkUFx3ogK1PXf9i93ndke10HQUseavcbt9I\n",
              "s1TdPtgBkRKsM4YCHH8BYQ601tZ2P7klfOAya9HQDy0dAAABpUGbvknhDyZTAk8AAAMAAE55Y1EX\n",
              "b+MEJueyj5g3qwLXCUleS+19dfuBnlcxJPgLtmn4CqPfvY57M53qJKk8Uziukb3n0+jzsv3yrLQe\n",
              "bPqKf0h762jPoDFX/lveqUg/vOFkrAD0DQlpBTdXXEMqCeZXJMotoTVm2C9SF8cl1ao4xgVF0GW9\n",
              "fd6u6YICALyw2DVA6TYDcAK4QWa7n9MOaLlzYx4VwNVQnv1OHMgMZj9EMonpe6nKF07moneKedxC\n",
              "sv50Rr/HmmDVG9jzmtRvFajh4XqtLvzuVhtxn1VmRh2Z2Yy92MUgITZ4xhYJX2wxAKn6+W/Ljw1Y\n",
              "lyQLf83X08xZP3tRm2Wn59stzwPu4oSotz0w3fldSB9qBCUB0EBQXtJlD51bIeq8zNude1xQk7tT\n",
              "A6kLT08oCMIaZwAjQo8pKfI1J+UeiC9yn/umJgI3zmktaIbXurJjLHOHXVaBSeJvi4jvPsaPV+1q\n",
              "SZzOJT+z7N7vCF6ctj3EoriBlefmWcKOoSkUD/pW57Aq5gwvcQP/c0fS+U2p3yJSqxUzvoBkBBPK\n",
              "H4AAAAGjQZvfSeEPJlMCTwAAAwAAUL4FldCf9gS7d/GCE3PZSOL2VqTlIrlJdhfH3oS2+qHuof1N\n",
              "gm51kaYxfK40YsY5C6hsqo+0R/KG4vi9XdR33k0oDUV2YMOnQB5DdnNqEZtGShozh45AQFCcyGOP\n",
              "j/3EfzH8TjI2UKf0rz7oD9BlwNOSeHweOEfkwSfK9Fyrxu58+IpzHD5SD4MqExK55Z51db0d3CAz\n",
              "E94/tyDNDt/g2Pv7g6KYYaq7gOMPCGPT9D4PMbAOxAZa35SUGYZxXB35pbsiapmL6LNkMpieT9VH\n",
              "jy7zjx5Fw1sDQiRrGxrpRcg4y3uBz+CP7EJ4be3k6aDmTAk6U2PrbclCXS6+0EtDxBmTDi9MSIxI\n",
              "2Bqrrer1rw9AC70jNa9RrQIt0fYh6cBpG9Iwk2yUU23v1RJf5233wAuODvObwQ9QGvd/Z73l7dyy\n",
              "dKlymxiaCqTCy3hLKzSB5vu9YVWUIchtrM4+2sxVdliVDc7K1tDm1KZGUduzjVU/Btgv+sh0W0jh\n",
              "fBycfyltAG9l9z853vFtX02Me4W9NWGZBu4AAAGUQZvgSeEPJlMCTwAAAwAAQZMAssau/b+MEJue\n",
              "yjo4wCvxdwir/yx3ZFest9Mr71nmyQqsbmSSW1Valuu6QNH6Q3QG5rWqCJuUajhRcvrSP2vFxiAZ\n",
              "Sa4bpBYj+OIim/jFquqZCPINq1vA9dsc9QQA29qvKaUfUk2LTSWzttJ3loX/64HcnbJUTNbgBsks\n",
              "+5VuGXjkSPBEjGMqr1dIWiHqeF4ycvfovgyIF8JBVfgoa+VNKDqysN3Fh1thXoz5qwbPIZQAgXDC\n",
              "MTsqdBCxxXmv6ZKHvQmc2n/SjZDcNszWzsvLe8I55OIaCWFtHKJmVSAA0tqKRPU5krHtX2/NEcq3\n",
              "GHgsmKBM3+XXbsYPdLdqpGoVALzErl9I8USvO8FIZrZ/iywxZHLmjKi90h1zQffw9gtx15XAQcsD\n",
              "cJSiRyQsONwNokhsdU3SiklCjY4KGoQDJqguxoZh7TCIhMt7sinKxMZMwPgn2XQhfUf90ZYT3frF\n",
              "Q/qdw8b3kQNhLXR7H1vkQkqxrxiMhvv91GIuAJA1GyVevSEAAAFdQZoBSeEPJlMCTwAAAwAAN0Zn\n",
              "ZvZjiu2apD5BRGgMYrruQwzYAVclf4saBVflaF160CeYRKBiz5aNbbMt85D8nL4dguR2RHmEkcRc\n",
              "kA+iG2DpDxyAPmqh3weMZpd79t52KCsea+HJ64Nw7303STi7S0TT1+BBBh6sViocWVC4m6mI9hpM\n",
              "OiuHMCTY64PrWzRTcgXnML0fulpJPV3D9VyYQQrDC0afbo13KOVMEB9YxhTtKaaHnE+YOjxCGZPi\n",
              "O4+VBTihPLd1P82YB6Hzv75khF24yapzpvaPnyV372mqqZ8YwEYWsRGfO6BghRZLDtX0xSakhPIB\n",
              "kQdzTDPAxHkAeDlu3spRuy9J2tQheAMe1pQed2y/K1ZV3i0rdzXnxiZhpQ2jBvLDV+69lcup+ICO\n",
              "zO0ZWUN8AohG10fjdDcX6so8CGhMKCBiPJmO3faE69X2x+ROlgcFWO234N3FwAAAAYxBmiJJ4Q8m\n",
              "UwJPAB88CGgUf4KhCrsLl9OiqdZR7HC8qBiz5UgT6/qSrJm8Yb0Ff+WImNcvwX3v2N840Rf53ig9\n",
              "sw8fVEei+wKFaJvymJFS8eMxphim4DF3BIgSj0hrzHvNONvhprGZ7Q3W48yG1Q5lTzprkrQxx++D\n",
              "HFfPa/jhBr/gGDRoOXuS/VddfLc5afJ8ULVSHrDU8WwKsaBN3D0+ogM3hGNbuvbS6iRkWvJl/VAg\n",
              "BDOslGgTqrcBivf2fnn0WWLH0Z5wWYDHVqi7K/E2zel6VDTLX65FaUTZ7k7sNu5JTd0JxdnUXAtU\n",
              "TWvYplWb2zrFutcrCsAozo256RJtUcIDhNwr3pvi/kyvo8KtCTxC88VavLZQ2i/JPEklACfzK6pw\n",
              "96FvNmrHWfiXAbLjw5XB/DzPz2g6pAdTv/Hplpfzvlz63f4n8Y1c2pJz4sozg0masN9Z3uKDLrrZ\n",
              "JPEhx0arrqDy+tXDkdE5uPWcF9KABh8gzMrS0UZLUgAYTH4mwTlr663ZlQfDWmEAAAF+QZpDSeEP\n",
              "JlMCTwAd1wXpfeO1WDnF6LBGOlipogEJCJqVEKguOh7tdzQVapKURJHfQcORr5DSRkJdOwv8Wud9\n",
              "apHa0UaRcsaCsY5iCf+NF3PWTxSIJ8MbchFN9e60/GB0W6FmnpMCklwg2NfyAJN1lVxsc4Y6TKV4\n",
              "LAvW4ObMk9/qqJFs06Vi5fxlsOEjCC0y0i41PP5tIOvolkrnuSbCYjZqouTKHEDUftNouiIBr/eB\n",
              "EcU9DBxfeXXi6qwpEqE/cH7DZR6t/s9U5j83kLFUFTu/EyO+caClb06WBFG2f63yEb/jXVqrtzam\n",
              "5YSb/s67pKJUZtbFIwKyrVobi7fL/Asl/Q95hFdUOhVcGBO1jSDEjay/QX1PUw+0mRUFHAlHvWDh\n",
              "STuDIzLKodr8th2KBYzchAQnEJGZqt+ksDocceCwFPIYRYhT7gAA5BTcA9y6DkhEC2n+gqSXxziO\n",
              "gY52QjAPa2ceUNSLkZiQifb91qcJKpxfD5cTS84UKP1xQAAAAa9BmmRJ4Q8mUwJPAAAgOdwgGvB1\n",
              "yyR73vrtP1ChJjbS6iAZQOCADU9I45mVz/Er3gcrzgmb893X2uM+zoSL5LBK880MPBttHrmUqiiQ\n",
              "dFAx+7a/N+/jjsWY00GUYVrkBO6qVFO5EFKAMSWhEUnuffXl9P8RH+RQmyr/Ow5AbNKVoxgdPBst\n",
              "QlvjnrjjUt4djrk2DCWhvmFoEuC5woaIWzw7nLXwNa/YbNQpzR7vAkTsuH1+/B13ohs1tTEdvS8j\n",
              "pZtF9ers9lz4R/fGOVGVrkqQXJM0XARhHM4CZ8ggQ7WyW9VifavQdEFq9lJ12k4/H70nntMGMJP7\n",
              "+V+qvf/PBEC/9ukbplhyXlEfJ0NPw+N4giHSzE5In+PyGzvHU8/gpN4YMzyZNdtfyoguPYAyqiqn\n",
              "HcIvsqOsnmMw4v05biSyiDkpeqVZILDkPd9tzuIYVSEtvxG076aVAdAnVej1d/WkCLOlIuZItdkU\n",
              "MVny6ZSBjw3P2Ky5+dL55Ag8uErpk4KF/DxhsO94aXHpNpzP4D26p8vuOxeFb89r7qaIEe92x4El\n",
              "0k2UTxCwdXkAJl64IQAAAaBBmoVJ4Q8mUwJPAAADADqf5TouWjeNx60KywkPKDpcAIY0G8gfKewh\n",
              "VBK/b+MEJueyjo4uHdkgFV+8D6T3CnxGmvs++MWhglkxPrK7pA0fpDdAbmtaoIm5OAbKpd4VI/a8\n",
              "XGIBlJrhukFiP44iKb+MWq6pkI8g2rW8D1hozNvAC5tA7QXvAlbcfNJbO20neWhf/rgcUXmrIs3q\n",
              "ejd4xjz/BZyJHgiRjGVV6ukLRD1PC8ZOWXk1ism9/Y7OFBrIZUbO6gJDWXUvRnzVg2eQvioaKiWF\n",
              "Fx4zULBK5WslGdL+bymiU9//X/cDA+MWIq+771zVYZhFVPfKJk0uBMvRTCqqE47EIj7hnBy/H8Fk\n",
              "xQJm/y67djB7pbtVI+5LeFL3dakXoR7UUV9l2oW2f4ssMWRy5oyovdFmSSCIGGTZ6T05fAg0HuAm\n",
              "7BrQvyavEhsdU3SikjQWEafuDBvWuGrjQzD2mERCZb3ZFOViYyZOsxU+GmEy7FWJhqd3TopaObej\n",
              "u/79t5tjVvW1FbY3scfuFvxs8AYjIb7/dRiLgCPNhuaVTQAAAZBBmqZJ4Q8mUwJPAAADAABqv8uQ\n",
              "aYC19QjZGVaEpR6pJbrBsIUrntrQxf4KhCrsLl9OiqdZR7HC8qBiz5UgT6+elO13URTo8V/5YfiD\n",
              "5bEWsBB1ONEX+d4oPbMPH1RHovsChWiYdja+CyVJEfXYKF3BIgSj0hq7kgeQebv08JYMtac2HtUO\n",
              "ZU86a5K0McfveXOSIRROVSB+NRC0Rt0rkv1XXXy3OWnyfFC1Uh6w1PFqLp6BQ8+GoVowkQGbof0l\n",
              "qmllRvglgDbVb6M2rEAIZ1kozhuX8rZ3Z+R7ZxBB5vCvplGagrUCBJc9xP/JStbgK6meiibOhUX7\n",
              "tPR97AFeisAYyvpOEpPRWu45j48f6O+QVmbMw4RxocoHins14d9H7OQLux6ExdhEZJty5ibLdpMF\n",
              "itEnLHr3Mmr2a5qa5kAnP/60CsAckr7mPmHYYWgtgg/gFfOCX20xJg3vWMHLB0H9tRqZ2Oxp9g6r\n",
              "ZcXXk6N2bvKCgsk6i8krnEVcDNEWwanA3D029s1FL7nHYv1sBLtxAAABh0Gax0nhDyZTAk8AAB1P\n",
              "8t6QA30B8wNH9AFHr0h8Jsa957oS1nGDNr95l9i3/dbenSoZsPehurUjlgb8/jqiT8QdePWi6OLe\n",
              "5Zpi2XlKqQOcB8+6mTKTR7S7dY0yUPR5Y+NyVeAr3dfp5VsfFsFY9x2wqKtPugazqkR+xaMu/uAt\n",
              "j7ujZkWpeIjTKswbOHZ6WhRT16tNP4v6lA47qoHQ9d39HXOmpWGu/nJ8e+/DfG9s73pJX6faxDzK\n",
              "S6LdnGSfCBRqoYlScX+IKU4hU69LAkIwtvunEAAVi+yibdqbcLZS+GVA4oYHTIufdXE9zZpZPTA/\n",
              "Rudh+nO7bN23YO10G0VwtOIibVou0RVwvZdWj6QwRSahYmWn4LA9rXm8jHpnfJthSRVQmdk0Tv1s\n",
              "q6aIIci+GLWst/jMRUnRYIWV1CgclsUqA2noYiOhxxZL/V/wM+xPgoxWm0ReasEEwPuqYjQXoH8i\n",
              "MgLwYVb91jil0LNPZaN06ZiYuSz4w4n6ejgGNRisMu862MEAAAGNQZroSeEPJlMCTwAAAwAACl/7\n",
              "JZA0mwCbn0yrlQb2fwPyqiKTNoDgJgfYJtt0kRRhVny1HZUCbA9VyFvUvRYm0PFdI2YuPtzSHBgC\n",
              "pvVtN1eEKzHUCv1GQd+Anzniw4VOlNdnDgmhy2xqdpv0ArZwoimKYhYHQy1ONdGHbwtwn+VMDG/0\n",
              "U3RE4EuxtcLEpOwkGCkjluMgDdWofBOkTk0PPJ6CvC7Uw7eM35ISOeXOLHYLZtRyaZCk9hPtgQNq\n",
              "NGB2mzY+BOSz7DQ4H9e30pNu34Edgp78OvACUTiLAAAk2Doh/ey1bFBxumJ0bl/XsgOGfcKhp8/o\n",
              "pZObBgSCtQGa7Uw5QEUCyZte4U/hpHNGk3pfa4jIaALUyAe9xpX/E38CygjwPkjZ1tu+Drienym7\n",
              "iERigDmFQUGda+4KqmbRmrob3OOCadBL2M5GM86EcJMy/u+5U/KWWMdUeo7riGJkSd6Uuq9SgUse\n",
              "avcbt9Is1TdPtf+xlj84oVGemhlOexgbaex/ckr5wGTXo8Bv4AAAAaFBmwlJ4Q8mUwJPAAADAABO\n",
              "eWNRF2/jBCbnso+YNEs+h5L7X122bV+VzEk+Au2afgKo9+9jnszneokqTxTOK6RvefT6POy/fKst\n",
              "B5s+op/SHvraM/FM6h+W96pSD+84WSsAPQNCWkFN1dcQyoJ5lckyr9H8H9j6lIXxyXVqjjGBUXQZ\n",
              "b193q7pggIAvLDYNXaKIpYZzJwgs13P6Yc0XLmxjwrgaqgxbJw5kBjMfohlE9L3U5Qunc1E7xTzu\n",
              "IVl/OiNf480wao49H1Bq/POdb+kIOllHO5WG3GfVWZGHZnZjL3ZVYCHLXxjCwSvthiAVP18t+XHh\n",
              "qxLkgW/5uvp5iyfvajNstPz7ZbngfdxQlRi9Ix2/K6kD7UCEoDoICgvaTKHzq2Q9V5mbc69rj5K7\n",
              "tTA6kLT08oCMIaZwAjQo8pKfI1J+UeYC9yn/umJgI3zmktaIbXurJjLHOHXVaBSeJvd4jvPsaPV+\n",
              "1qSZzOJT+z7N7vCF6ctj3EoriBlefmWSnJETUUD/pW57Aq5gwvcQP/c0+ceaQh6KpEy2MAHlg/M7\n",
              "aMAAAAGgQZsqSeEPJlMCTwAAAwAATZME76NN27+MEJueykcXsrfQwYWk6UaaIBXfflYiJqH9TYJu\n",
              "dZGmMXyuNGLGOQuobKqPtEfyhuL4vV3Ud95NKA1FdmDNMjEKo3ZzahGbRkoaM4eOQEBQnMhjj4/9\n",
              "xH8x/E4yUkc2MjYg1+Ity4GnJPD4PHCPyYJPlei5V43c+fEU5tFBMCbG9QxYWKUjb/JVq1HBIxPe\n",
              "P7cgzQ7f4Nj7+4OvdXl2UejjDwhzk/Q+DzGwDsQGWt+UlBmGcVwd+aW7ImqZi+i1qCQzXMtKo8eY\n",
              "y8ePIuGtgaESNY2NdKLkHGW9wOfwSs5LtCq2w67Klp/CTpTY+ttyUJdLr7QS0PEGZMOL0xIjEjK8\n",
              "Hgd9YcF46AF3pGa16jWgRbo+xD04DSN6RhJtkoptv1xKVr2/8YiTccHec3gh6gNe7+z3vL27lk6V\n",
              "JoNjE0NSRFlvCWVmkDzfd6wqsoQ5DbWZx9tZiqs7EqHRKGbsIkYKoQhpdnGqp+DbBf9ZDotpHC+D\n",
              "f3gxbaAN7L7n5zveLavpsY9wt6hsDPkAAAGfQZtMSeEPJlMFETyfAAADAABBkwCyxq79v4wQm57K\n",
              "OjjAK/LCUKZWkTm/f/GobKJU3rPNkhVY3Mkktqq1Ldd0gaP0hugNzWtUETcnl3agu8KkfteLjEAy\n",
              "k1w3SCxH8cRFN/GLVdUyEeQbVreB65SgdHgBPhgdc0o+pJsWmktnbaTvLQv/1wO1ASZIma/mr9F4\n",
              "/etLXPrcESMYyqvV0haIep4XjJy97rarsesUZfIJ9LlP6D+0n2Vhu4sOtsK9GfNWDZ5C+nUCZD5L\n",
              "9ljUWbXSp1+L5btlbymiU9//X/jGhNnejUm+rClHqRPXvU98omaT3ATApHa5irLxC11RcT5CHQoF\n",
              "e/H8FkxQJm/y67djB7pbtVI7T4si2nvFycag9/sNt48lPb+bCwxZHLmjKi90guisaBM/s/JHEdgD\n",
              "eThIRFMDbMRAnqqe8SGx1TdKKSUlijgoc6luTK+3Lo0Mw9phEQmW92RTlYmMmcNuJ7NzltDIdLlF\n",
              "YsaEdQ/qdw74HVyNdtm1hBp6KrVciFiYW/GzwBiMhvv91GIuAI/MOPtLwAAAADYBn2tqQt8CTXfE\n",
              "JAUibKRvX7D3F7gn4UqS6jc2qUm9nlQzovvea2UweUwPS+l7B3wV5wZGC8AAAAFcQZttSeEPJlMC\n",
              "TwAAAwAAN0Znr/BtbqpwBjvfdkq7cgWUGxS8Wq7ON9/gqAFHaVoXXrQJ5hEoGLPlo1tsy3ztzE5k\n",
              "ICC5HZEeYSRxFyQD6IbYOkPHIA+aqHfB4xml3v3H2AoKx5r4cnrg3DvfTdJOLtj/M/AwIIMPVisV\n",
              "DiyoXE3UxHsNJh0Vw5gSbHXB8fGejrXqcNovR+6Wkk9XcP1XJhBCsMLRp9ujXcqzpAdWSFLqdpTz\n",
              "Q84nzB0eIQzJ8R3HyoKcUJaoHQfnipmMajyeG/lYXGTVOdN7R8+Su/jraimfGMBGFrERnzugYIUW\n",
              "Sw7V9i3ecyu2AYM39byVQr5LIDwct29lKN2XpO1qELwBj2tKDzw8X5WrKu8Wlbua8+MTMNKG0YN5\n",
              "Yav3XsyONNVGR2Z2jKyhvgFEI2uj8bobl+MTsYjLQ/SgMR5Mx277QnXq+2PyJ0sDgqx22eYZAAAB\n",
              "iEGbjknhDyZTAk8AHzwIaBR/gqEKuwuX06Kp1lHscLyoGLPlSBPr+pKsmbxhvQV/5YiY1y/Bfe/Y\n",
              "3zjRF/neKD2zDx9UR6L69NBJyE8ozUvHjMaYYpuAwUdMJyA9/aGjciEQ3s9YzPaG63HmV252toWk\n",
              "3j0YkJiZBs/kcbX7zl1/wDBo0HL3JlOk95axkrvExmzjmX7a89X/iiTA8185pH0JaRjW7r20uokZ\n",
              "Frz3hVvuufnW5zQJ1VuAxXv7Pzz6LLFj6NBE6LSewVcd5zYMiUb4XI7vRrxAGWzkFv3YbdySm7oT\n",
              "i7OouBaomtexhA+RIlgUwULMKwCjOjbnpEm3P5NAFLSMzu+L+TK+jyM2TSsudKW+flLtX6/JPEkl\n",
              "ACfzK6pw96FvNncq6IwXgbLiErAs7M0gRi7spkx6v/Hplpfzvlz63f4n8YgAugfPosozg0masN9Z\n",
              "3uKDLrrZJPNRcFYraV6I+utxm91pXlqcF9KAARW5MdEOE+S0kAE3tz3gsILmHN2M7s6xAAABfEGb\n",
              "r0nhDyZTAk8AHdqjl91wBC3KOnaOwXUnMIJcEh0Qgqj+ZffmaIXc0FWqSlESR30HDkaUb3QMhLp2\n",
              "F/i1zvrVI7WijSLljQVjHMQT/xou56yeLdmB71PEOF4XutPxgdFuhZsyHAQJcINjX8gCTdZVcbHO\n",
              "GOkynU0kkmH1mNTPf6qiRbNOlYuX8ZbDhIwgtMtIuNT0bKSDj6JZK57koLC0s1UVZlDiBqP2m0XR\n",
              "EA1/vAiOKehg4vvLrxdVmEjrpFqw5Wyo9W/2eqcx+byFiqCp3h23BOcaClb06WBFG2g8ySEb8QQN\n",
              "tZwbjB39dV+s67pKJUZtbFIwK6RpUri7K36BZL+h7zCK6odCq4MCdrGkGJGtJyFcv8ND7SZFQUcC\n",
              "Ue9YOoT+aCc3ah7N4TqwxAFjNyEBCcQkZmq36SwOhxx4LAU9GVode/cAAHIKbgHuXQckIgW0/0FS\n",
              "S+OcR3rHOx0YB7WzjyhqRcjMSET7futThJVOL4FrgTTJLmYNAAABqUGb0EnhDyZTAk8AACA53CAa\n",
              "8GzsVy/AptDNVjmwb/1/Sel8TAEK6pgJmWG/Mkg1j4QG9Mee7r7XGfZ0JF8lgleeaGHg22j1zKVR\n",
              "gBOi12Odtfm/fxx2LMaaDKMK1yAndVHin1v0JbJvAKRJMuhtiIcizYv+WgGyr/Ow5AbNKVoxgbsQ\n",
              "Bgf3RL7XHGpbw7HXJsGEtCPMLQNcFzhQ0QtniCpSfAmp+E8a5k3K0ShIrGH1+/B13ohs1tTEdvTA\n",
              "q0OU2xZe/3Ny/gPvjHKjK1yVILkk6LgIwh6B+mO/NgNUaG4AxPtXoOiC1ex/Ra5GRC896YTBjCT+\n",
              "/kfqr4v1xEUP/t0jdMsOS8oj4+JJ+HxvEEQ6WInJE/2EMbO8dTz+CjzP5U/+Sa7a/lRBcewBlVIV\n",
              "Ny11UcqOsnmMw4v05biSyiDkpeqVXvbYynLyjjL4yw/IYX4jad9JKgOgTqvR6u/rCBFnSkXMkWuy\n",
              "KGKz5dNCsy79n7FZc/Ol88gQeXCVuycFC/h4w2He8DmStuUbdM8zsBmuPHYvCt+e15wuE5gQTseB\n",
              "JdJNlB60QAEnAAABlkGb8UnhDyZTAk8AAAMAOp/lOi5aN43HrQrLCQ8n5ZLFtOmT9zd738YITc9l\n",
              "HRxPhH4d+t9mV96zzZIVWNzJG2d14n1ld0gaP0hugNzWtUETcbFI1buX1pH7Xi4xAMpNcN0gsR/H\n",
              "ERTfxi1XVMhHkG1a3geuE1utvAK6ar1Be8CVtx80ls7bSd5aF/+uBzT2f5izepi63jGPP8FnIkeC\n",
              "JGMZVXq6QtEPU8Lxk5bqaxWTe/uOC/yNkMqNndQEhrLqXoz5qwbPIZHa4TIeWFFyMS9CIKmevdBZ\n",
              "dzbcpolPf/1/31wM4FiKvu+9c1WGYRVT3yiZclQgL0UwuMld5ukEt8M4OX4/gsmKBM3+XXbsYPdL\n",
              "dqpGc1HmKBePyV7xP3vTCKpofN/NhYYsjlzRlRe6GitHV9wzHpejiOwBsh24GNKFMn1pdeJDY6pu\n",
              "lFJIY5Bk/cSNx295bGhmHtMIiEy3uyKcrExkybPep/XMn4QpBHAv1iof1O4d4rftvVonjuRagQVG\n",
              "C81REJKsa8YjIb7/dRiLgCPhEVMAAAGQQZoSSeEPJlMCTwAAAwAAbT/KdJanfrRq1Ffp2i0OQ66A\n",
              "EIe/n843uwIIrmT7/JaFXYXL6dFU6yj2OF5UDFnypAn186jrEUCQ985X/lh+IPlsRawEHU40Rf53\n",
              "ig9sw8fVEei+wKFaJh21r4VJUkR9dgoXcEiBKPSGrtCB5B6dHHwlgy1pzYe1Q5lTzprkrQxx+95Y\n",
              "dIhFE5hNvxqIWiNulcl+q66+W5y0+T4oWqkPWGp4tQxmGn/DUK0YSIDNz3U7bo84gPLbZrBPvw5t\n",
              "WIAQzrJRnDq9JOTtX//uziCDzeFehONM1bIECS57if+Sla3AV1M9FE2dCoibLv3wAgz64ooYyvpO\n",
              "EpPRWu45j48daO+R5lJ0FWSTsjanqUm1YxFyDOQLux6ExdhEZJty5ibLdpMFitEg8nr3MZb2a5qa\n",
              "5kAnP/60CsAckr7mPmHYYWgtgg/gFfLyX30VJg3vWMHLB0H9tRqZ2Oxp9g2LZckUDrNLU/KCgsk6\n",
              "i8krnEVcDNEWwanA3D029s1FL7nHYv2QGQAAAYFBmjNJ4Q8mUwJPAAAdT/LekAN9AfMDR/QBR63s\n",
              "Qq4hyihVScYM2v3mX2Lf91t6dLQX4tEs5JkcsDfn8dUSfiDrx60XRxb3LNMWy8pVSBzgaS3zJlFs\n",
              "JymJtBKU0h+WPjclXRVbSXkn1rogTE+O2FRVp90DTanCpWLbhx8MuDlVjBlKuQ5jAgUrRx4dnpJd\n",
              "CTqeaafxf1KBx3VQOM67v6GngaPpKFltd0yf8N8b29O5UKf7uZYh5tS+LdnGSfCBRp1Z0ztxDQCU\n",
              "3UAoWG0EZ/jfdILAAz0ZPb0OptwtlL4ZUDh1r6SnMcFcQj17lkPKIZDc7Y9Od22btuwdhktorg0s\n",
              "Jksa9eEQSDXd1aRRDBFJqFiQaD2sEi4B6k8bJMRm2FJFVCZ2ORO+gP2dvAJtc5zhay3+7piowiwQ\n",
              "0DqFA5LYpUBtPQxEdDjiyacr/Np9o/BRitNoi81YIJgfdUxGgvJszT9kngYrFXnInEvhLlMOuMJh\n",
              "ZRsifGHE/T0cA1XLatJgAAABkkGaVEnhDyZTAk8AAAMAAApf+yWQNJJ9/J0XhWLBvZ/R/lREwmbQ\n",
              "HATA+wTbbpIijGOR0xcfThNwCvR/UwAxm0PFlGGBgPbmagGAKm/yRWBeEK1HVlOqjIORQa8t5YcK\n",
              "nT0uzhwTQ5bWrsYHcS67cK8PS3J3DYMqz3XRh28LcI/ZUCxv9FPkROBLsLRjo6CVfy/SSOW4yAN1\n",
              "ah75eU4RjdGnoK8MxTDt4zTkfI59sUG56LZtcOPyCmZGINgRZOnPnPYHTKtJjRFe6DMSyHA/r2+q\n",
              "7fCS0YMGhfh13YSicR7AABWDtuhO9lq2KDjdMTzSrkV8cvH93uGUDjr0ZfJzT/PSlpsZr4VVARm3\n",
              "/G1wEaqrPAn9jL+CcyMhoAMBiA3yR8J88VuXzm9UL9kMR71mT4OuR6fKbuIQWllV4LO9B3I93Yg2\n",
              "WSj+JjMbZ7baPN/XbnMX0JWBT/KCtNA0VvojoUKfb3ed2SDuqrBSanVVGdX1SzVN1llABxIyYhIw\n",
              "EOP4CzBtbG2nsO3KD6AhhBWMJ9WjgAAAAaJBmnVJ4Q8mUwJPAAADAABOeWNRF2/jBCbnso+YNEs+\n",
              "h5L7X122bV+VzEk+Au2afgKo9+9jnszneokqTxTOK6RvefT6POy/fKstB5s+op/SHvraM/FM6h+W\n",
              "96pSD+84WSsAPQNCWkFN1dcQyoJ5lckyr9H8H9j6lIXxyXVqjjGBUXQZb193q7pggIAvLDYNXaKI\n",
              "pYZzJwgs13P6Yc0XLmxjwrgaqgxbJw5kBjMfohlE9L3U5Qunc1E7xTzuIVl/OiNf480wao49H1Bq\n",
              "/POdb+kIOllHO5WG3GfVWZGHZnZjL3ZVYCHLXxjCwSvthiAVP18t+XHhqxLkgW/5uvp5iyfvajNs\n",
              "tPz7ZbngfdxQlRi9Ix2/K6kD7UCEoDoICgvaTKHzq2Q9V5mbc69rj5K7tTA6kLT08oCMIaZwAjQo\n",
              "8pKfI1J+UeYC9yn/umJgI3zmktaIbXurJjLHOHXVaBSeJvd4jvPsaPV+1qSZzOJT+z7N7vCF6ctj\n",
              "3EoriBlefmWSnJETUUD/pW57Aq5gwvcQP/c09bPGX5jKgo1OwyCMA0glvyZVAAABokGalknhDyZT\n",
              "Ak8AAAMAAE2TBO+jTdu/jBCbnspHF7K3ydSQb9sE7Y6B0PE2UxJJylrXT6TUGiuf5XGjFjHIXUNl\n",
              "VH2iP5Q3F8Xq7qO+8mlAaiuzBkD03fIbs5tQjNoyUNGcPHICAoTmQxx8f+4j+Y/icZLc5T+lb/dA\n",
              "foMuBpyTw+Dxwj8mCT5XouVeN3PnxFObKWOF/BlQmJXPLPOrreju4QGYnvH9uQZodv8Gx9/cHW+h\n",
              "fg4oX9EXEh6fofB5jYB2IDLW/KSgzDOK4O/NLdkTVMxfRalBIZuIHRUePLvOPHkXDWwNCJGsbGul\n",
              "FyDjLe4HP4JXAW0SPuw67Ilp/CTpTY+ttyUJdLr7QS0PEGZMOL0xIjEjULLQd9YcF46AF3pGa16j\n",
              "WgRbo+xD04DSN6RhJtkoptv19av/xfLFx4FbO85vBD1Aa939nveXt3LJ0qUwbGJoakiLLeEsrNIH\n",
              "m+71hVZQhyG2szj7azFWHWJUOiUM3YRIwVQhDS7ONVT8G2C/6yHRbSOF8HFvBi20Ab2X3Pzne8W1\n",
              "fTYx7hb1DYZkbNgAAAGeQZq3SeEPJlMCTwAAAwAAQZK/hrrvxxL9v4wQm57KOjjAK2VDHRB3Y6mf\n",
              "jbNlMr71nmyQqsbmSSW1Valuu6QNH6Q3QG5rWqCJuTNCIJcvrSP2vFxiAZSa4bpBYj+OIim/jFqu\n",
              "qZCPINq1vA9cCMzbwAveqvKaUfUk2LTSWzttJ3loX/64HZ+hsrDYf2I3HkXvWlrn1uCJGMZVXq6Q\n",
              "tEPU8Lxk5e9c6yPjx+aIT6siQje+0n2Vhu4sOtsK9GfNWDZ5C+vUCZD5L9lkUVbXTh1+L5btlbym\n",
              "iU9//X/g+jrffA0D3VhSj1Inr3qe+UTMrRAA7MGGKkXa8QtdUXE+Qh0KBXvx/BZMUCZv8uu3Ywe6\n",
              "W7VSPVFNwLUA73dNQe/2G28eSnt/NhYYsjlzRlRe6VV8WNAmf2fkjiOwBuXBld+pgeZiIE9VT3iQ\n",
              "2OqbpRSSlZscFDnUtyZX25dGhmHtMIiEy3uyKcrExkzcZxPa6NX0Mh0uUVixoR1D+p3DvbdXI122\n",
              "bWEGnoqtVyIWJhb8bPAGIyG+/3UYi4Aj6rfOFfm9AAABY0Ga2EnhDyZTAk8AAAMAAD+XWpSLtYrV\n",
              "S3sLRuqkiQRbY+F5PngU5AdCfZHcbj/BUAKO0rQuvWgTzCJQMWfLRrbZlvnJw5IkICC5HZEeYSRx\n",
              "FyQD6IbYOkPHIA+aqHfB4xml3v2/2AoKx5r4cnrg3DvfTdJOLtafM/AwIIMPVisVDiyoXE3UxHsN\n",
              "Jh0Vw5gSbHXB12GejrXqcNovR+6Wkk9XcP1XJhBCsMLRp9ujXcrBpAdWSDnydpTzQ84nzB0eIQzJ\n",
              "8R3HyoKcUIE60kQvLAKfNzyeG/lYXGTVOdN7R8+Su/njCimfGMBGFrERnzugYIUWSw7V9zdbryu2\n",
              "AYM39byU1pjPIB4OW7eylG7L0na1CF4Ax7WlB54ZEesd1XeLSt3NefGJmGlDaMG8sNX7r2Z3Cmqj\n",
              "I7M7RlZQ3wCiEbXR+N0Ny/eJ2MRlofpQGI8mY7d9oTr1fbH5E6WBwVY7birtEHEAAAGNQZr5SeEP\n",
              "JlMCTwAfPAhoFH+CoQq7C5fToqnWUexwvKgYs+VIE+v6kqyZvGG9BX/liJjXL8F979jfONEX+d4o\n",
              "PbMPH1RHovsChWib8piRUvHjMaYYpuAxdwSIEo9Ia8x7zTjb4aaxme0N1uPMhtUOZU86a5K0Mcfv\n",
              "gxxXz2v44Qa/4Bg0aDl7kv1XXXy3OWnyfFcsLpr2z86gKsaBN3D0+ogM3hGNbuvbS6iRkWvJl/T/\n",
              "Dz74dm9Qk8fYLBObhGvPossWPoztr5cZdgq47zmwZEo3wuRubz2BDKTYgQE7sNu5JTd0JxdnUXAt\n",
              "UTWvYo0NpZpe9NWuVhWAUZ0bc9Ik2iuEBwm4V703xfyZX0eFWhJ4heeutYFsobRfkniSSgBP5ldU\n",
              "4e9C3mzVjrPxKuXT45fnwfw8w09oOqQHU7/x6ZaX875c+t3+J/GNUxqSc+LKM4NJmrDfWd7igy66\n",
              "2STxIcdGq1AwOHA3q9At0SZfWxLKAApFM2+Vpg7r2wjMqAC9UgeRWP7WmYx+9rxOGAAAAYRBmxpJ\n",
              "4Q8mUwJPAB3XEZ9iAQXSRWXmWvqUtZeZWCdVwElM5JFzsWr1/UK1NBVqkpREkd9Bw5GlghHkhwqR\n",
              "+IxxEeajhpwQaRcsaCsY5iCf+NF3PWTxkUDtzE8Q4Xhe60/GB0W6FpoVCTxDInM2v5AEm6yq42Oc\n",
              "MdJlTFvf5Ma02zJPf6qiRbNOlYuX8ZbDhIwgtMtIuNTyynCLHMpiK57kXVLlq4VI7LQcQNR+02i6\n",
              "IgGv94ERxT0MHF95deLqyNKG7NrVhytlR6t/s9U5j83kLFUFTxJ12tigxoKVvTpYEUbZ++F4xwFr\n",
              "A21nBuMHf11X6zrukolRm1sUjAq6HLM+j0pnb1ZJRBw/0V1Q6FVwYE7WNIMSLJelgjT8ND7SZFQU\n",
              "cCUe9YNH0fSGdBtQ9m8J1YYgCxm5CAhOISMzVb9JYHQ448FgKdjVbBcv3AAByCm4B7l0HJCIFtP9\n",
              "BUkvjnEa9IzsepvN1s48oakXIzEhE+37rU4SVTi+Hxo8vAjTGA8NET0xAAABsUGbO0nhDyZTAk8A\n",
              "Gr8wIVgbH9ANauFxRjxIW2B78f3TugyYhBXneAPvlfXoAlv8SveByvOCZvz3dfa4z7OhIvksErzz\n",
              "Qw8G20euZSqHr5Z2m2M1Z7KyCB9IAwNul7CtcgJ3VSQp5IgpQBiS0Iik9z6JiFp/iK/yKE2Vf52H\n",
              "IDZpStGMDp4NlqEt8c9ccalvDsdcmwYS0P8wtAlwXOFDRC2eHc5a+BrX7DZqFOahuaEidlz+v34O\n",
              "u9ENmtqYjt6XkdLNovr1dnsufCP74xyoytclSC4wutyco/NA/THfmv9ykPuAMT7V6DogtXspuu0n\n",
              "H5AL+GC7OHab+/hpRFDVt7AUP/t0jdMsOS8oj5Ohp+HxvEEQ6I2nJE/x+Q2d46nn8FJvDBmeTJrt\n",
              "r+VEFx7AGVVVU5cOF9lR1k8xmHF+nLcSWUQclL1SrJBYch7vtudxDCqQlt+I2nfaRW3aE6r0erv6\n",
              "agRZ0pFzJFrsihis+XTKQMeG5+xWXPzpfPIEHlwleMnBQv4eMNh3vDS49JtOZ/Ae3YPl9x2Lwrfn\n",
              "tfdTRAj3u2PAkukmx8c+lFDIgFQPGYAAAAGgQZtcSeEPJlMCTwAAAwA6n+U6Llo3jcetCssJDyg6\n",
              "XACGNBvIHynsIVQSv2/jBCbnso6OLh3ZIBVfvA+k9wp8Rpr7PvjFoYJZMT6yu6QNH6Q3QG5rWqCJ\n",
              "uTgGyqXeFSP2vFxiAZSa4bpBYj+OIim/jFquqZCPINq1vA9YaMzbwAubQO0F7wJW3HzSWzttJ3lo\n",
              "X/64HFF5qyLN6no3eMY8/wWciR4IkYxlVerpC0Q9TwvGTll5NYrJvf2OzhQayGVGzuoCQ1l1L0Z8\n",
              "1YNnkL4qGiolhRceM1CwSuVrJRnS/m8polPf/1/3AwPjFiKvu+9c1WGYRVT3yiZNLgTL0UwqqhOO\n",
              "xCI+4Zwcvx/BZMUCZv8uu3Ywe6W7VSPuS3hS93WpF6Ee1FFfZdqFtn+LLDFkcuaMqL3RZkkgiBhk\n",
              "2ek9OXwINB7gJuwa0L8mrxIbHVN0opI0FhGn7gwb1rhq40Mw9phEQmW92RTlYmMmTrMVPhphMuxV\n",
              "iYand06KWjm3o7v+/bebY1b1tRW2N7HH7hb8bPAGIyG+/3UYi4AjzYbmlU0AAAGQQZt9SeEPJlMC\n",
              "TwAAAwAAar/LkGmAtfSCiTOMQoE1Lziz/FgJHvnnISx/6qVCrsLl9OiqdZR7HC8qBiz5UgT6+cHO\n",
              "13URTegr/yw/EHy2ItYCDqcaIv87xQe2YePqiPRfYFCtEw5hdrzpHGjAOYKF3BIgSj0hq60geQeb\n",
              "v08JYMtac2HtUOZU86a5K0McfveWRSIRRGo7b8aiFojbpXJfquuvluctPk+KFqpD1hqeLTqD0Ch5\n",
              "8NQrRhIgM3MXp7VNLKjfBLAG2q30ZtWIAQzrJRm7XXtcnav//dnEEHm8K8acZqCtQIElz3E/8lK1\n",
              "uArqZ6KJs6FRG2d6V72AK9FYAxlfScJSeitdxzHx45AErsRyToKsknZG1PUpOKxisRGcgXdj0Ji7\n",
              "CIyTblzE2W7SYLFaI/5PXuZNXs1zU1zIBOf/1oFYA5JX3MfMOwwtBbBB/AK+cEvtpiTBvesYOWDo\n",
              "P7ajUzsdjT7BuWy4uvJ0bs3eUFBZJ1F5JXOIq4GaItg1OBuHpt7ZqKX3OOxfrYAODwAAAYdBm55J\n",
              "4Q8mUwJPAAAdT/LekAN9AfMDR/QBR69IfCbGvee6EtZxgza/eZfYt/3W3p0qGbD3obq1I5YG/P46\n",
              "ok/EHXj1ouji3uWaYtl5SqkDnAfPupkyk0e0u3WNMlD0eWPjclXgK93X6eVbHxbBWPcdsKirT7oG\n",
              "s6pEfsWjLv7gLY+7o2ZFqXiI0yrMGzh2eloUU9erTT+L+pQOO6qB0PXd/R1zpqVhrv5yfHvvw3xv\n",
              "bO96SV+n2sQ8ykui3ZxknwgUaqGJUnF/iClOIVOvSwJCMLb7pxAAFYvsom3am3C2UvhlQOKGB0yL\n",
              "n3VxPc2aWT0wP0bnYfpzu2zdt2DtdBtFcLTiIm1aLtEVcL2XVo+kMEUmoWJlp+CwPa15vIx6Z3yb\n",
              "YUkVUJnZNE79bKumiCHIvhi1rLf4zEVJ0WCFldQoHJbFKgNp6GIjoccWS/1f8DPsT4KMVptEXmrB\n",
              "BMD7qmI0F6B/IjIC8GFW/dY4pdCzT2WjdOmYmLks+MOJ+no4BjUYrDLvOtjAAAABjEGbv0nhDyZT\n",
              "Ak8AAAMAAApf+yWQNJsAm59Mq5UG9n8D8qoikzaA4CYH2CbbdJEUYVZ8tR2VAmwPVchb1L0WJtDx\n",
              "XSNmLj7c0hwYAqb1bTdXhCsx1Ar9RkHfgJ854sOFTpTXZw4JodDBlEWP/vSc4URTFMQsDoZanGuj\n",
              "Dt4W4DVRgIyN9FN0ROBLsbXCxKTsJBgpI5bjIA3VqHZ46tAsyjppNr4XamHbxm/JCRzy5xY7BbNf\n",
              "bu+IUnsJ9sCBtRowO02bHwJyWfYaHA/r2+qrN00ooyRjaQFoHGbhCMQACUYGB2d7LVsUHG6YnTJX\n",
              "9eyA4Z9wqGnz+imKxDyOjbwGa7Uw5QEUCyZte4UwSFgN+xM++1xGQ0AWpkA97jSv+Jv4FlAWU0PI\n",
              "jrbd8HXE9PlN3EIjFAHMKgoM619wVVM2jNXQ3ubTd8ONnqwgducxfQkzL+77lT8pZYx1R6juuIYm\n",
              "RJ3pS5DBLCrZ9ldldX0izVN0+1/7GWPzihUZ6aGUR+BBtp7H9ySvnAZNejwG/gAAAaFBm8BJ4Q8m\n",
              "UwJPAAADAABOeWNRF2/jBCbnso+YNEs+h5L7X122bV+VzEk+Au2afgKo9+9jnszneokqTxTOK6Rv\n",
              "efT6POy/fKstB5s+op/SHvraM/FM6h+W96pSD+84WSsAPQNCWkFN1dcQyoJ5lckyr9H8H9j6lIXx\n",
              "yXVqjjGBUXQZb193q7pggIAvLDYNXaKIpYZzJwgs13P6Yc0XLmxjwrgaqgxbJw5kBjMfohlE9L3U\n",
              "5Qunc1E7xTzuIVl/OiNf480wao49H1Bq/POdb+kIOllHO5WG3GfVWZGHZnZjL3ZVYCHLXxjCwSvt\n",
              "hiAVP18t+XHhqxLkgW/5uvp5iyfvajNstPz7ZbngfdxQlRi9Ix2/K6kD7UCEoDoICgvaTKHzq2Q9\n",
              "V5mbc69rj5K7tTA6kLT08oCMIaZwAjQo8pKfI1J+UeYC9yn/umJgI3zmktaIbXurJjLHOHXVaBSe\n",
              "Jvd4jvPsaPV+1qSZzOJT+z7N7vCF6ctj3EoriBlefmWSnJETUUD/pW57Aq5gwvcQP/c0+ceaQh6K\n",
              "pEy2MAHlg/M7aMEAAAGiQZvhSeEPJlMCTwAAAwAAUL4FldCf9gS7d/GCE3PZSOL2VqTlIrmqbn9F\n",
              "HM6nvqh7qH9TYJudZGmMXyuNGLGOQuobKqPtEfyhuL4vV3Ud95NKA1FdmDCuMoFUbs5tQjNoyUNG\n",
              "cPHICAoTmQxx8f+4j+Y/icZHpU9Xc1YNfiLcuBpyTw+Dxwj8mCT5XouVeN3PnxFOXmj4F/BlQmJX\n",
              "PLPOrreju4QGYnvH9uQZodv8Gx9/cHRW2G0qJjjDwhj0/Q+DzGwDsQGWt+UlBmGcVwd+aW7ImqZi\n",
              "+jDKDKYtCWwg8eXecePIuGtgaESNY2NdKLkHGW9wOfwR+KV7kPFh12RLT+EnSmx9bbkoS6XX2glo\n",
              "eIMyYcXpiRGJGoW0Rb1eteHoAXekZrXqNaBFuj7EPTgNI3pGEm2Sim29/2q1fF8sXHgVs7zm8EPU\n",
              "Br3f2e95e3csnSpgtsYmgqkwst4Sys0geb7vWFVlCHIbazOPtrMVZnYlQ3OytbQ5tSmRlHbs41VP\n",
              "wbYL/rIdFtI4Xwc28ELbQBvZfc/Od7xbV9NjHuFvTVgZ8AAAAZ5BmgNJ4Q8mUwURPJ8AAAMAAEGT\n",
              "ALLGrv2/jBCbnso6OMAr8sN2lwyHAOifYW+mV96zzZIVWNzJJLaqtS3XdIGj9IboDc1rVBE3JvCB\n",
              "6py6dhiJi4xAMpNcN0gsR/HERTfxi1XVMhHkG1a3geujpNkt2SsYHXNKPqSbFppLZ22k7y0L/9cD\n",
              "tnYFiJmv7EbjyL3rS1z63BEjGMqr1dIWiHqeF4ycve+PHjfxnlXIJ9WRIRvfaT7Kw3cWHW2FejPm\n",
              "rBs8he8iBcMIxOytIjOyJw/fl8t2yt5TRKe//r/wfRzzvRqTfVhSj1Inr3qe+UTNJtAIVuwwuaCy\n",
              "8QtdUXE+Qh0KBXvx/BZMUCZv8uu3Ywe6W7VSNYTxsEBEd7umoPf7DbePJT2/mwsMWRy5oyovdHqe\n",
              "rUgTP7PyRxHYA3k4U/NTA8zEQJ6qnvEhsdU3SiklJ2ML65xUtyZX25dGhmHtMIiEy3uyKcrExkzR\n",
              "ZxPaENX0Mh0uUVixoR1D+p3DvbdXI122kJcGnoqtVyIWJhb8bPAGIyG+/3UYi4Aj8xTntlEAAAAt\n",
              "AZ4iakLfAAADAZOg5r+XHlT7JNav5PYJK4ZQZJU1C/nCwaMbT+YcIYhaeVrQAAABXEGaJEnhDyZT\n",
              "Ak8AAAMAADdGZ6/wa0maveQ2p43lCMPKlWH3REGrAfOR/VSgKO0rQuvWgTzCJQMWfLRrbZlvnWA5\n",
              "IkICC5HZEeYSRxFyQD6IbYOkPHIA+aqHfB4xml3v3EmAoKx5r4cnrg3DvfTdJOLtkVU/AwIIMPVi\n",
              "sVDiyoXE3UxHsNJh0Vw5gSbHXB8SGejrXqcNovR+6Wkk9XcP1XJhBCsMLRp9ujXcqvpAdWSFmf17\n",
              "ZWh5xPmDo8QhmT4juPlQU4oUy5pIheWAd+bnk8N/KwuMmqc6b2j58ld+/KVFM+MYCMLWIjPndAwQ\n",
              "oslh2r61685ldsAwZv63kqcXyWQHg5bt7KUbsvSdrUIXgDHtaUHnhwR6x3Vd4tK3c158YmYaUNow\n",
              "byw1fuvZo2KaqMjsztGVlDfAKIRtdH43Q3MN4nYxGWh+lAYjyZjt32hOvV9sfkTpYHBVjts8wwAA\n",
              "AYdBmkVJ4Q8mUwJPAB88CGgUf4KhCrsLl9OiqdZR7HC8qBiz5UgT6/qSrJm8Yb0Ff+WImNcvwX3v\n",
              "2N840Rf53ig9sw8fVEei+vTQSchPKM1Lx4zGmGKbgMFHTCcgPf2ho3IhEN7PWMz2hutx5ldudraF\n",
              "pN49GJCYmQbP5HG1+85df8AwaNBy9yZTpPeWsZK7xMa2Qg/VqHi2BVjQJu4nNSHRW37JzuvbS6iR\n",
              "kWvMbkwcc8HreEuQSePsFgnNwjXn0WWLH0Z7YKWMuwVcd5zYMiUb4XI6fQWo/KUCwFv3YbdySm7o\n",
              "Ti7OouBaomtexNPvISywKYKFmFYBRnRtz0iTH0kmgClpGZ3fF/JlfR4+bI1rkShly824sP9fkniS\n",
              "SgBP5ldU4e9C3mzfVRsYLENDtykAVuDzBeGg6pAdTv/Hplpfzvlz63f4nwofbT2NSucozg0masN9\n",
              "Z3uKDLrrZJPEqxzarHWTW5MSrysZnZL61fZQAA6F5R0Q4T5LSQATe3PeCwguYc3YzuzrAAABe0Ga\n",
              "ZknhDyZTAk8AHdqji0TmrXaDRj9SxcexFcMAQiUh6ieZGHZG3Xc0FWqSlESR30HDkaSD3WMhLp2F\n",
              "/i1zvrVI7WijSLljQVjHMQT/xou56yeKtmB7vPEOF4XutPxgdFuhZq9DApJcINjX8gCTdZVcbHOG\n",
              "Okym80kkmH1mNTPf6qiRbNOlYuX8ZbDhIwgtMtIuNT0QbSDr6JZK57knR0WpAkNAj11X2cmm0XRE\n",
              "A1/vAiOKehg4vvLrxdViskCTPcH7DZR6t/s9U5j83kLFUFTvHaabc40FK3p0sCKNtBvkkI3/GurV\n",
              "Xbm1Nywk3/Z13SUSoza2KRgVujSpXF2+X+BZL+h7zCK6odCq4MCdrGkGJG6c6gvqeph9pMioKOBK\n",
              "PesHNHXcGRmWVQ7X5bDsUCxm5CAhOISMzVb9JYHQ448FgKeeKw4pfuAADkFNwD3LoOSEQLaf6CpJ\n",
              "fHOI7YipuvmGbrZx5Q1IuRmJCJ9v3WpwkqnF8C2Ce9Q5GYMAAAGrQZqHSeEPJlMCTwAZyrhU20uk\n",
              "A1u4F4x9s/JoYQbjq1xdb4qt+FADH77RguMR+239i8MOwmb893X2uM+zoSL5LBK880MPBttHrmUq\n",
              "hQCdFtsc7a/N+/jjsWY00GUYVrkBO6qIFPzfoS2TeAUiSZdDDNb6f4m/8tANlX+dhyA2aUrRjA3Y\n",
              "gDA/uiX2uONS3h2OuTYMJaEeYWga4LnChohbPEFSk+BNT8J41zJuVolCRWMPr9+DrvRDZramI7em\n",
              "BVocptiy9/ubl/AffGOVGVrkqQXF/VuTo2EuvovcM2A1RobgDE+1eg6ILV7H9FrkZELz3phMGMJP\n",
              "7+A+qvi/XERQ/+3SN0yw5LyiPj4kn4fG8QRDohickT/YQxs7x1PP4KPM/lT/5Jrtr+VEFx7AGVUh\n",
              "U3LXVRyo6yeYzDi/TluJLKIOSl6pVe9tjKcvKOMvjLD8hhfiNp32PVt2hOq9Hq7+sIEWdKRcyRa7\n",
              "IoYrPl00KzLv2fsVlz86XzyBB5cJW7JwUL+HjDYd7wOZK25Rt0zzOwGa48di8K357XnC4TmBBOx4\n",
              "El0k2POjAAAg4QAAAZZBmqhJ4Q8mUwJPAAADADqf5TouWjeNx60KywkPJ+WSxbTpk/c3e9/GCE3P\n",
              "ZR0cT4R+HfrfZlfes82SFVjcyRtndeJ9ZXdIGj9IboDc1rVBE3GxSNW7l9aR+14uMQDKTXDdILEf\n",
              "xxEU38YtV1TIR5BtWt4HrhNbrbwCumq9QXvAlbcfNJbO20neWhf/rgc09n+Ys3qYut4xjz/BZyJH\n",
              "giRjGVV6ukLRD1PC8ZOW6msVk3v7jgv8jZDKjZ3UBIay6l6M+asGzyGR2uEyHlhRcjEvQiCpnr3Q\n",
              "WXc23KaJT3/9f99cDOBYir7vvXNVhmEVU98omXJUIC9FMLjJXebpBLfDODl+P4LJigTN/l127GD3\n",
              "S3aqRnNR5igXj8le8T970wiqaHzfzYWGLI5c0ZUXuhorR1fcMx6Xo4jsAbIduBjShTJ9aXXiQ2Oq\n",
              "bpRSSGOQZP3EjcdveWxoZh7TCIhMt7sinKxMZMmz3qf1zJ+EKQRwL9YqH9TuHeK37b1aJ47kWoEF\n",
              "RgvNURCSrGvGIyG+/3UYi4Aj4RFTAAABkEGayUnhDyZTAk8AAAMAAG0/ynSWp360au2TIM7KyTfE\n",
              "AQh5EXv9VFZiO+eb3+S0KuwuX06Kp1lHscLyoGLPlSBPr5x/WIoEh75yv/LD8QfLYi1gIOpxoi/z\n",
              "vFB7Zh4+qI9F9gUK0TDYzXwqSpIj67BQu4JECUekNXXeElUBJjHwlgy1pzYe1Q5lTzprkrQxx+95\n",
              "btIhFE5hNvxqIWiNulcl+q66+W5y0+T4oWqkPWGp4tPRmGn/DUK0YSIDNzLUrbo84gPLbZrBPvw5\n",
              "tWIAQzrJRnAI3gcTuz8j2ziCDzeFehONM1bIECS57if+Sla3AV1M9FE2dCogbLvrAAgz64ooYyvp\n",
              "OEpPRWu45j48c6O+R5lJ0FWSTsjanqUm1YxFyDOQLux6ExdhEZJty5ibLdpMFitEe8nr3MZb2a5q\n",
              "a5kAnP/60CsAckr7mPmHYYWgtgg/gFfLiX30VJg3vWMHLB0H9tRqZ2Oxp9g1rZckUDrNLU/KCgsk\n",
              "6i8krnEVcDNEWwanA3D029s1FL7nHYv1MGAAAAGBQZrqSeEPJlMCTwAAHU/y3pADfQHzA0f0AUet\n",
              "7EKuIcooVUnGDNr95l9i3/dbenS0F+LRLOSZHLA35/HVEn4g68etF0cW9yzTFsvKVUgc4Gkt8yZR\n",
              "bCcpibQSlNIflj43JV0VW0l5J9a6IExPjthUVafdA02pwqVi24cfDLg5VYwZSrkOYwIFK0ceHZ6S\n",
              "XQk6nmmn8X9Sgcd1UDjOu7+hp4Gj6ShZbXdMn/DfG9vTuVCn+7mWIebUvi3ZxknwgUadWdM7cQ0A\n",
              "lN1AKFhtBGf433SCwAM9GT29DqbcLZS+GVA4da+kpzHBXEI9e5ZDyiGQ3O2PTndtm7bsHYZLaK4N\n",
              "LCZLGvXhEEg13dWkUQwRSahYkGg9rBIuAepPGyTEZthSRVQmdjkTvoD9nbwCbXOc4Wst/u6YqMIs\n",
              "ENA6hQOS2KVAbT0MRHQ44smnK/zafaPwUYrTaIvNWCCYH3VMRoLybM0/ZJ4GKxV5yJxL4S5TDrjC\n",
              "YWUbInxhxP09HANVy2rSYQAAAZBBmwtJ4Q8mUwJPAAADAAAKX/slkDSSffydF4Viwb2fwPyqiKTN\n",
              "oDgJgfYJtt0kRRhVnyjH75fqB6rkLepeixNoeK6RsxcfbmkODAFTeraUL4QrMdQK/UZB34CfOWLD\n",
              "hU6U12cOCaHQwZZt2mPFbOFEUxTELA6GVpxrow7eFuA1UYCMjfRTdETgS4C7ROdBKv5rpJHLcZAG\n",
              "6tQ7QOvuX15dNJtfC7Uw7eM35HyOeXOLHYLZsAelSffpzcOhveH9weosWu0mNEV7oMxLIcD+vb6m\n",
              "Y7snSjJGNpAWgcZuEIxAAGSmVzSbIEqmu0bpicbt/17IDhn3CoZSOOvcz/ziQD0pabL7OWm0EZt/\n",
              "xtcBF5mid9Gk3pfa4jIaAEQjgb5I+E/E30Cntf5zpVEjZ1tu+Drienym7iEFpc5WCzvQdyPd2INl\n",
              "ko/iYo3NTAJexnIxnnQjhKwKf5TOC470QFanrv+xe7zuyPn6DBSvn2V2V1fSLNU3T7YAHESrDOGA\n",
              "hx/AWAOuxbWdj+5JXzgMmvR2AvnDAAABokGbLEnhDyZTAk8AAAMAAE55Y1EXb+MEJueyj5g0Sz6H\n",
              "kvtfXbZtX5XMST4C7Zp+Aqj372OezOd6iSpPFM4rpG959Po87L98qy0Hmz6in9Ie+toz8UzqH5b3\n",
              "qlIP7zhZKwA9A0JaQU3V1xDKgnmVyTKv0fwf2PqUhfHJdWqOMYFRdBlvX3erumCAgC8sNg1dooil\n",
              "hnMnCCzXc/phzRcubGPCuBqqDFsnDmQGMx+iGUT0vdTlC6dzUTvFPO4hWX86I1/jzTBqjj0fUGr8\n",
              "851v6Qg6WUc7lYbcZ9VZkYdmdmMvdlVgIctfGMLBK+2GIBU/Xy35ceGrEuSBb/m6+nmLJ+9qM2y0\n",
              "/PtlueB93FCVGL0jHb8rqQPtQISgOggKC9pMofOrZD1XmZtzr2uPkru1MDqQtPTygIwhpnACNCjy\n",
              "kp8jUn5R5gL3Kf+6YmAjfOaS1ohte6smMsc4ddVoFJ4m93iO8+xo9X7WpJnM4lP7Ps3u8IXpy2Pc\n",
              "SiuIGV5+ZZKckRNRQP+lbnsCrmDC9xA/9zT1s8ZfmMqCjU7DIIwDSCW/JlQAAAGiQZtNSeEPJlMC\n",
              "TwAAAwAATZME76NN27+MEJueykcXsrfQwYWk6UaaIBXfflYiJqH9TYJudZGmMXyuNGLGOQuobKqP\n",
              "tEfyhuL4vV3Ud95NKA1FdmDNMjEKo3ZzahGbRkoaM4eOQEBQnMhjj4/9xH8x/E4yUkc2MjYg1+It\n",
              "y4GnJPD4PHCPyYJPlei5V43c+fEU5tFBMCbG9QxYWKUjb/JVq1HBIxPeP7cgzQ7f4Nj7+4OvdXl2\n",
              "UejjDwhzk/Q+DzGwDsQGWt+UlBmGcVwd+aW7ImqZi+i1qCQzXMtKo8eYy8ePIuGtgaESNY2NdKLk\n",
              "HGW9wOfwSs5LtCq2w67Klp/CTpTY+ttyUJdLr7QS0PEGZMOL0xIjEjK8Hgd9YcF46AF3pGa16jWg\n",
              "Rbo+xD04DSN6RhJtkoptv1xKVr2/8YiTccHec3gh6gNe7+z3vL27lk6VJoNjE0NSRFlvCWVmkDzf\n",
              "d6wqsoQ5DbWZx9tZiqs7EqHRKGbsIkYKoQhpdnGqp+DbBf9ZDotpHC+Df3gxbaAN7L7n5zveLavp\n",
              "sY9wt6hsMyBmwQAAAZ1Bm25J4Q8mUwJPAAADAABBkwCyxq79v4wQm57KOjjAK/LDdr4qjT8j/wt2\n",
              "VUnb1nmyQqsbmSSW1Valuu6QNH6Q3QG5rWqCJuTy71CXeFSP2vFxiAZSa4bpBYj+OIim/jFquqZC\n",
              "PINq1vA9cpQOjwAhW1XlNKPqSbFppLZ22k7y0L/9cDtQEmSJmv7EbjyL3rS1z63BEjGMqr1dIWiH\n",
              "qeF4ycve16SnfrTtzserIkI3vtJ9lYbuLDrbCvRnzVg2eQveRAuGEYnZWkTnZE5Nfi+W7ZW8polP\n",
              "f/1/3yo5s0t/J7qwpR6kT171PfKJmVhwC349+5oLLxC11RcT5CHQoFe/H8FkxQJm/y67djB7pbtV\n",
              "I7DQbgWoCnu6ag9/sNt48lPb+bCwxZHLmjKi90lwUsaBM/s/JHEdgDcfB5lqYHlYiBPVU94kNjqm\n",
              "6UUkpmbHBQ51LcmV9uXRoZh7TCIhMt7sinKxMZM2GcT2hDV9DIdLlFYsaEdQ/qdw75XVyNdtpCXB\n",
              "p6KrVciFiYW/GzwBiMhvv91GIuAJA1SVu9580QAAAV5Bm49J4Q8mUwJPAAADAAA3Rmdn3dSrD9u+\n",
              "NqheRKsbnfMPoUzXUMVyo/ixoFV+VoXXrQJ5hEoGLPlo1tsy3zrQckSEBBcjsiPMJI4i5IB9ENsH\n",
              "SHjkAfNVDvg8YzS737grLqFY818OT1wbh3vpuknF2tvmjUKe6DD1YrFQ4sqFxN1MR7DSYdFcOYEm\n",
              "x1wfAhno616nDaL0fulpJPV3D9VyYQQrDC0afbo13KwaQHVkg88naUY0POJ8wdHiEMyfEdx8qCnF\n",
              "CiTNJELywDnmt8nhv5WFxk1TnTe0fPkrv7owr5nxjARhaxEZ87oGCFFksO1feNdS1E8gGRB3NMM3\n",
              "kyGQB4OW7eylG7L0na1CF4Ax7WlB54ZEesd1XeLSt3NefGJmGlDaMG8sNX7r2Z3GmqjI7M7RlZQ3\n",
              "wCiEbXR+N0Ny/eJ2MRlofpQGI8mY7d9oTr1fbH5E6WBwVY7birt3GQAAAY1Bm7BJ4Q8mUwJPAB88\n",
              "CGgUf4KhCrsLl9OiqdZR7HC8qBiz5UgT6/qSrJm8Yb0Ff+WImNcvwX3v2N840Rf53ig9sw8fVEei\n",
              "+wKFaJvymJFS8eMxphim4DF3BIgSj0hrzHvNONvhprGZ7Q3W48yG1Q5lTzprkrQxx++DHFfPa/jh\n",
              "Br/gGDRoOXuS/VddfLc5afJ8ULVSHrDU8WwKsaBN3D0+ogM3hGNbuvbS6iRkWvJl/VAgBDOslGgT\n",
              "qrcBivf2fnn0WWLH0Z5wWYDHVqi7K/E2zel6VDTLX65FaUTZ7k7sNu5JTd0JxdnUXAtUTWvYplWb\n",
              "2zrFutcrCsAozo256RJtUcIDhNwr3pvi/kyvo8KtCTxC88VavLZQ2i/JPEklACfzK6pw96FvNmrH\n",
              "WfiXAbLjw5XB/DzPz2g6pAdTv/Hplpfzvlz63f4n8Y1c2pJz4sozg0masN9Z3uKDLrrZJPEhx0ar\n",
              "rqDy+tXDkdE5uPWcF9KABfcgzOrTB3XthGZUAF6pA8isf2tMxj97XicMAAABgEGb0UnhDyZTAk8A\n",
              "HdcF6X3jtVg5xeiwRjpYqaIBCQialRCoLjoe7Xc0FWqSlESR30HDka+Q0kZCXTsL/FrnfWqR2tFG\n",
              "kXLGgrGOYgn/jRdz1k8UiCfDG3IRTfXutPxgdFuhZp6TApJcINjX8gCTdZVcbHOGOkyleCwL1uDm\n",
              "zJPf6qiRbNOlYuX8ZbDhIwgtMtIuNTz+bSDr6JZK57kmwmI2aqLkyhxA1H7TaLoiAa/3gRHFPQwc\n",
              "X3l14uqsKRKhP3B+w2Uerf7PVOY/N5CxVBU7vxMjvnGgpW9OlgRRtn+t8hG/411aq7c2puWEm/7O\n",
              "u6SiVGbWxSMCsq1aG4u3y/wLJf0PeYRXVDoVXBgTtY0gxI2sv0F9T1MPtJkVBRwJR71g4Uk7gyMy\n",
              "yqHa/LYdigWM3IQEJxCRmarfpLA6HHHgsBTyGEWIU+4AAOQU3APcug5IRAtp/oKkl8c4joGOdkIw\n",
              "D2tnHlDUi5GYkIn2/danCSqcXw8/E0xuFrp2TWQP4AAAAa9Bm/JJ4Q8mUwJPAAAgOdwgGvB1yyR7\n",
              "3vrtP1ChJjbS6iAZQOCADU9I45mVz/Er3gcrzgmb893X2uM+zoSL5LBK880MPBttHrmUqiiQdFAx\n",
              "+7a/N+/jjsWY00GUYVrkBO6qVFO5EFKAMSWhEUnuffXl9P8RH+RQmyr/Ow5AbNKVoxgdPBstQlvj\n",
              "nrjjUt4djrk2DCWhvmFoEuC5woaIWzw7nLXwNa/YbNQpzR7vAkTsuH1+/B13ohs1tTEdvS8jpZtF\n",
              "9ers9lz4R/fGOVGVrkqQXJM0XARhHM4CZ8ggQ7WyW9VifavQdEFq9lJ12k4/H70nntMGMJP7+V+q\n",
              "vf/PBEC/9ukbplhyXlEfJ0NPw+N4giHSzE5In+PyGzvHU8/gpN4YMzyZNdtfyoguPYAyqiqnHcIv\n",
              "sqOsnmMw4v05biSyiDkpeqVZILDkPd9tzuIYVSEtvxG076aVAdAnVej1d/WkCLOlIuZItdkUMVny\n",
              "6ZSBjw3P2Ky5+dL55Ag8uErpk4KF/DxhsO94aXHpNpzP4D26p8vuOxeFb89r7qaIEe92x4El0k2U\n",
              "TbCwdrkAJl64IQAAAaBBmhNJ4Q8mUwJPAAADADqf5TouWjeNx60KywkPKDpcAIY0G8gfKewhVBK/\n",
              "b+MEJueyjo4t3dknMx+8D6T3CnxGmvs++MWhglkxPrK7pA0fpDdAbmtaoIm5OAbKpd4VI/a8XGIB\n",
              "lJrhukFiP44iKb+MWq6pkI8g2rW8D1hozNvAC5tA7QXvAlbcfNJbO20neWhf/rgcUXmrIs3qejd4\n",
              "xjz/BZyJHgiRjGVV6ukLRD1PC8ZOWWA1ism9/Y7OFBrIZUbO6gJDWXUvRnzVg2eQvioaKiWFFx4z\n",
              "ULBK5WslGdL+bymiU9//X/cDA+MWIq+771zVYZhFVPfKJk0uBMvRTCqqE47EIj7hnBy/H8FkxQJm\n",
              "/y67djB7pbtVI+5LeFL3dakXoR7UUV9l2oW2f4ssMWRy5oyovdFmSSCIGGTZ6T05fAg0HuAm7BrQ\n",
              "vyavEhsdU3SikjQWEafuDBvWuGrjQzD2mERCZb3ZFOViYyZOsxU+GmEy7FWJhqd3TopaObeju/79\n",
              "t5tjVvW1FbY3scfuFvxs8AYjIb7/dRiLgCPNhuaVTAAAAZBBmjRJ4Q8mUwJPAAADAABqv8uQaYC1\n",
              "9IKJM4xCgTUvOLP8WAke+echLH/qpUKuwuX06Kp1lHscLyoGLPlSBPr5wc7XdRFN6Cv/LD8QfLYi\n",
              "1gIOpxoi/zvFB7Zh4+qI9F9gUK0TDmF2vOkcaMA5goXcEiBKPSGrrSB5B5u/Twlgy1pzYe1Q5lTz\n",
              "prkrQxx+95ZFIhFEajtvxqIWiNulcl+q66+W5y0+T4oWqkPWGp4tOoPQKHnw1CtGEiAzcxentU0s\n",
              "qN8EsAbarfRm1YgBDOslGbtde1ydq//92cQQebwrxpxmoK1AgSXPcT/yUrW4CupnoomzoVEbZ3pX\n",
              "vYAr0VgDGV9JwlJ6K13HMfHjkASuxHJOgqySdkbU9Sk4rGKxEZyBd2PQmLsIjJNuXMTZbtJgsVoj\n",
              "/k9e5k1ezXNTXMgE5//WgVgDklfcx8w7DC0FsEH8Ar5wS+2mJMG96xg5YOg/tqNTOx2NPsG5bLi6\n",
              "8nRuzd5QUFknUXklc4irgZoi2DU4G4em3tmopfc47F+tgA4OAAABh0GaVUnhDyZTAk8AAB1P8t6Q\n",
              "A30B8wNH9AFHr0h8Jsa957oS1nGDNr95l9i3/dbenSoZsPehurUjlgb8/jqiT8QdePWi6OLe5Zpi\n",
              "2XlKqQOcB8+6mTKTR7S7dY0yUPR5Y+NyVeAr3dfp5VsfFsFY9x2wqKtPugazqkR+xaMu/uAtj7uj\n",
              "ZkWpeIjTKswbOHZ6WhRT16tNP4v6lA47qoHQ9d39HXOmpWGu/nJ8e+/DfG9s73pJX6faxDzKS6Ld\n",
              "nGSfCBRqoYlScX+IKU4hU69LAkIwtvunEAAVi+yibdqbcLZS+GVA4oYHTIufdXE9zZpZPTA/Rudh\n",
              "+nO7bN23YO10G0VwtOIibVou0RVwvZdWj6QwRSahYmWn4LA9rXm8jHpnfJthSRVQmdk0Tv1sq6aI\n",
              "Ici+GLWst/jMRUnRYIWV1CgclsUqA2noYiOhxxZL/V/wM+xPgoxWm0ReasEEwPuqYjQXoH8iMgLw\n",
              "YVb91jil0LNPZaN06ZiYuSz4w4n6ejgGNRisMu862MEAAAGPQZp2SeEPJlMCTwAAAwAACl/7JZA0\n",
              "mwCbn0yrlQb2f0f5URMJm0BwEwPsE226SIoxjkdMXH0P1A9TPv6mAGM2h4sXJgYD25moBgCpv8kV\n",
              "hHSFajqysVRkHIMavOOWHCp09Ls4cE0OW1q7GQAwCu3CvD0tydw73LM910YdvC3CP2VAsb/RT5Gj\n",
              "D6r9xc2JSdhH+Z26BeMgDdWoe+XlOE0PRp6CvDMUw7eM05ISOfbFBuei2bXDmmYNn0p9sCLJ00vz\n",
              "QYLueFzbzm8aKTBvcJyUVHYBVTGZJRtICz/oLwhSYAAkrW383ey1bFBxumJx+vbXsnLx/eGwlFY6\n",
              "9C68KkjA+Gmy+zlptBGbf8bXARm5SDtRpR6YJwoyGgA3uIDfJHwn3TzhfOb1Qp2hY31Jbxdw5HiS\n",
              "ObrNOUsa1gs70Hcj3diDZZKP4mOozZ3zuU3MwDeaMumXItEVFoLjvRAVqeu/7F7vO7JAPq8FJbzn\n",
              "8ewgLtS8u7kYJqMTyrDOGAhx/AWDUTAgwgRnVe+bo8IAKykEAAABoUGal0nhDyZTAk8AAAMAAE55\n",
              "Y1EXb+MEJueyj5g0Sz6HkvtfXbZtX5XMST4C7Zp+Aqj372OezOd6iSpPFM4rpG959Po87L98qy0H\n",
              "mz6in9Ie+toz8UzqH5b3qlIP7zhZKwA9A0JaQU3V1xDKgnmVyTKv0fwf2PqUhfHJdWqOMYFRdBlv\n",
              "X3erumCAgC8sNg1dooilhnMnCCzXc/phzRcubGPCuBqqDFsnDmQGMx+iGUT0vdTlC6dzUTvFPO4h\n",
              "WX86I1/jzTBqjj0fUGr8851v6Qg6WUc7lYbcZ9VZkYdmdmMvdlVgIctfGMLBK+2GIBU/Xy35ceGr\n",
              "EuSBb/m6+nmLJ+9qM2y0/PtlueB93FCVGL0jHb8rqQPtQISgOggKC9pMofOrZD1XmZtzr2uPkru1\n",
              "MDqQtPTygIwhpnACNCjykp8jUn5R5gL3Kf+6YmAjfOaS1ohte6smMsc4ddVoFJ4m93iO8+xo9X7W\n",
              "pJnM4lP7Ps3u8IXpy2PcSiuIGV5+ZZKckRNRQP+lbnsCrmDC9xA/9zT1s8URIqSNo+lqQQBihCtF\n",
              "TQAAAaBBmrhJ4Q8mUwJPAAADAABNkwTvo03bv4wQm57KRxeyt8nUkG/bBO2OgdDxNlMSScpa10+k\n",
              "1Born+VxoxYxyF1DZVR9oj+UNxfF6u6jvvJpQGorswZA9N3yG7ObUIzaMlDRnDxyAgKE5kMcfH/u\n",
              "I/mP4nGS3OU/pW/3QH6DLgack8Pg8cI/Jgk+V6LlXjdz58RTmyljhfwZUJiVzyzzq63o7uEBmJ7x\n",
              "/bkGaHb/Bsff3B1voX4OKF/RFxIen6HweY2AdiAy1vykoMwziuDvzS3ZE1TMX0WpQSGbiB0VHjy7\n",
              "zjx5Fw1sDQiRrGxrpRcg4y3uBz+CVwFtEj7sOuyJafwk6U2PrbclCXS6+0EtDxBmTDi9MSIxI1Cy\n",
              "0HfWHBeOgBd6Rmteo1oEW6PsQ9OA0jekYSbZKKbb9fWr/8XyxceBWzvObwQ9QGvd/Z73l7dyydKl\n",
              "MGxiaGpIiy3hLKzSB5vu9YVWUIchtrM4+2sxVh1iVDolDN2ESMFUIQ0uzjVU/Btgv+sh0W0jhfBx\n",
              "bwYttAG9l9z853vFtX02Me4W9Q2BnwAAAZ5BmtlJ4Q8mUwJPAAADAABBkr+Guu/HEv2/jBCbnso6\n",
              "OMArZUMdEHdjqZ+Ns2UyvvWebJCqxuZJJbVVqW67pA0fpDdAbmtaoIm5M0Igly+tI/a8XGIBlJrh\n",
              "ukFiP44iKb+MWq6pkI8g2rW8D1wIzNvAC96q8ppR9STYtNJbO20neWhf/rgdn6GysNh/YjceRe9a\n",
              "WufW4IkYxlVerpC0Q9TwvGTl71zrICWBCmxe/VkSEb32k+ysN3Fh1thXoz5qwbPIX4AgXDCMTstK\n",
              "kWGqHdPjvlu2VvKaJT3/9f+LaF+98DQPdWFKPUievep75RM0n0AI0zAxUi7XiFrqi4nyEOhQK9+P\n",
              "4LJigTN/l127GD3S3aqR+siGBagHe7pqD3+w23jyU9v5sLDFkcuaMqL3S0rixoEz+z8kcR2AN10L\n",
              "tv1MDzMRAnqqe8SGx1TdKKSUvNjgoc6luTK+3Lo0Mw9phEQmW92RTlYmMmbzOJ7XRq+hkOlyisWN\n",
              "COof1O4d7rq5Gu2zawg09FVquRCxMLfjZ4AxGQ33+6jEXAEfbyidsoAAAAFgQZr6SeEPJlMCTwAA\n",
              "AwAAP5dalIu1it3+JLKd0rZXIJW8BmEOyDlzzjctrlR/VSgKO0rQuvWgTzCJQMWfLRrbZlvnYg5I\n",
              "kICC5HZEeYSRxFyQD6IbYOkPHIA+aqHfB4xml3v3IW7DnZ28Ocnrg3DvfTdJOLtmVU4ogIIMPVis\n",
              "VDiyoXE3UxHsNJh0Vw5gSbHXB2RaYjrXqcNovR+6Wkk9XcP1XJhBCsMLRp9ujXcrHpAdWSEeydpR\n",
              "zQ84nzB0eIQzJ8R3HyoKcUH1aHQfnipjHNjyeG/lYXGTVOdN7R8+Su/jv6tmfGMBGFrERnzugYIU\n",
              "WSw7V9o1FVkJ5AMiDuaYZib4MgDwct29lKN2XpO1qELwBj2tKDzxGo9Y7qu8Wlbua8+MTMNKG0YN\n",
              "5Yav3Xsy7NNVGR2Z2jKyhvgFEI2uj8boble8TsYjLQ/SgMR5Mx277QnXq+2PyJ0sDgqx22eYYQAA\n",
              "AYpBmxtJ4Q8mUwJPAB88CGgUf4KhCrsLl9OiqdZR7HC8qBiz5UgT6/qSrJm8Yb0Ff+WImNcvwX3v\n",
              "2N840Rf53ig9sw8fVEei+vTQSchPKM1Lx4zGmGKbgMFHTCcgPf2ho3IhEN7PWMz2hutx5ldudraF\n",
              "pN49GJCYmQbP5HG1+85df8AwaNBy9yZTpPeWsZK7xMZs45l+2vPV/4okwPNfOaR9CWkY1u69tLqJ\n",
              "GRa894Vb7rn51uc0CdVbgMV7+z88+iyxY+jQROi0nsFXHec2DIlG+FyO70a8QBls5Bb92G3ckpu6\n",
              "E4uzqLgWqJrXsYQPkSJYFMFCzCsAozo256RJtz+TQBS0jM7vi/kyvo8jNk0rLnSlvn5S7V+vyTxJ\n",
              "JQAn8yuqcPehbzZ3KuiMF4Gy4hKwLOzNIEYu7KZMer/x6ZaX875c+t3+J/GIALoHz6LKM4NJmrDf\n",
              "Wd7igy662STzUXBWK2leiPrrcZvdaV5anBfSgAYfIAEyPeLzk3cSoOjREnZ/NUeO3LVZNpsvAAAB\n",
              "f0GbPEnhDyZTAk8AHdqjl91wBC3KOnaOwXUnMIJcEh0Qgqj+ZffmaIXc0FWqSlESR30HDkaUb3QM\n",
              "hLp2F/i1zvrVI7WijSLljQVjHMQT/xou56yeLdmB71PEOF4XutPxgdFuhZsyHAQJcINjX8gCTdZV\n",
              "cbHOGOkynU0kkmH1mNTPf6qiRbNOlYuX8ZbDhIwgtMtIuNT0bKSDj6JZK57koLC0s1UVZlDiBqP2\n",
              "m0XREA1/vAiOKehg4vvLrxdVmEjrpFqw5Wyo9W/2eqcx+byFiqCp3h23BOcaClb06WBFG2g8ySEb\n",
              "8QQNtZwbjB39dV+s67pKJUZtbFIwK6RpUri7K36BZL+h7zCK6odCq4MCdrGkGJGtJyFcv8ND7SZF\n",
              "QUcCUe9YOoT+aCc3ah7N4TqwxAFjNyEBCcQkZmq36SwOhxx4LAU9GVode/cAAHIKbgHuXQckIgW0\n",
              "/0FSS+OcR3rHOx0YB7WzjyhqRcjMSET7futThJVOL4fNbeglQ1haGgJvAAABrUGbXUnhDyZTAk8A\n",
              "ACA53CAa8GzsVy/AptDNVjmwb/1/Sel8TAEK6pgJmWG/Mkg1j4QG9Mee7r7XGfZ0JF8lgleeaGHg\n",
              "22j1zKVRgBOi12Odtfm/fxx2LMaaDKMK1yAndVHin1v0JbJvAKRJMuhtiIcizYv+WgGyr/Ow5AbN\n",
              "KVoxgbsQBgf3RL7XHGpbw7HXJsGEtCPMLQNcFzhQ0QtniCpSfAmp+E8a5k3K0ShIrGH1+/B13ohs\n",
              "1tTEdvTAq0OU2xZe/3Ny/gPvjHKjK1yVILkk6LgIwh6B+mO/NgNUaG4AxPtXoOiC1ex/Ra5GRC89\n",
              "6YTBjCT+/kfqr4v1xEUP/t0jdMsOS8oj4+JJ+HxvEEQ6WInJE/2EMbO8dTz+CjzP5U/+Sa7a/lRB\n",
              "cewBlVIVNy11UcqOsnmMw4v05biSyiDkpeqVXvbYynLyjjL4yw/IYX4jad9JKgOgTqvR6u/rCBFn\n",
              "SkXMkWuyKGKz5dNCsy79n7FZc/Ol88gQeXCVuycFC/h4w2He8DmStuUbdM8zsBmuPHYvCt+e15wu\n",
              "E5gQTseBJdJNlE8Os7egfQAQMQAAAZpBm35J4Q8mUwJPAAADADqf5TouWjeNx60KywkPJ+WSxbTp\n",
              "k/c3e9/GCE3PZR0cVjjahknz9yNysyvvWebJCqxuZI2zuvE+srukDR+kN0Bua1qgibjViIY67wqR\n",
              "+14uMQDKTXDdILEfxxEU38YtV1TIR5BtWt4HrXZmbeAFxNV6gveBK24+aS2dtpO8tC//XA5letWR\n",
              "ZvUxdbxjHn+CzkSPBEjGMqr1dIWiHqeF4ycucdLFZN7/KGcKDWQyo2d1ASGsupejPmrBs8he6wBc\n",
              "MFVbOyqAwyCV7690Fl3NtymiU9//X/fHBBMWIq+771zVYZhFVPfKJlG3DzSGBelPC47EIj7hnBy/\n",
              "H8FkxQJm/y67djB7pbtVI5pphDkPZ/HJ20/e9MIqmh8382FhiyOXNGVF7omJkdX3DMel6OI7AGxE\n",
              "a3pSxDHzuBtEkNjqm6UUkjRkGT9xI3Hb3lsaGYe0wiITLe7IpysTGTLMOKn5cyfhCkEcC/WKh/U7\n",
              "h3id+29WieO5FqBBUYLzVEQkqxrxiMhvv91GIuAI9ihlwAAAAZNBm59J4Q8mUwJPAAADAABtP8p0\n",
              "mUka9hTJ6dRTdnukxmZUJSAIEghcY51fVdh98+XWKfPNd2+nRVOso9jheVAxZ8qQJ9fOkxNMrIfv\n",
              "nK/8sPxB8tiLWAg6nGiL/O8UHtmHj6oj0X2BQrRMMrNfDpKkiPrsFC7gkQJR6Q1duQPIPXw6XCWD\n",
              "LWnNh7VDmVPOmuStDHH73f3EiEUVs4gfjUQtEbdK5L9V118tzlp8nxQtVIesNTxanGxO+/DUK0YS\n",
              "IDN03U90Wl0geW2zWCffhzasQAhnWSjNqRbA4ndn5HtnEEHm8Ko+Uf6TgXaY8cbblclK1uArqZ6K\n",
              "Js6FRhu70lNhbvD9YAxlfScJSeitdxzHx44Ud80RyToKsknZG1PUoAKxiLkGcgXdj0Ji7CIyTblz\n",
              "E2W7SYLFaJD5PXuZNXs1zU1zIBOf/1oFYA5JX3MfMOwwtBbBB/AK+fTvwwqTBvesYOWDoP7ajUzs\n",
              "djT7B1Wy5IoHWaWp+UFBZJ1F5JXOIq4GaItg1OBuHpt7ZqKX3OOxfsNkAAABhEGboEnhDyZTAk8A\n",
              "AB1P8t6QE5t9DkK26WBNWPIAo0O6EmGz71Cqk4wZtfvMvsW/7rb06PQD9Es50LkcsDfn8dUSfiDr\n",
              "x60XRxb3LNMWy8pVSBzgaS3zJlFsJyiTHxh60h+WPjclXRVbSXV5tupNW9NXBTarT7oGm1OFSsW3\n",
              "Dj4ZcHKrGCthqXiN30lWNnDs9LQop69Wmn8X9Sgcd1UDjOu7+hp4Gj6ShZcfdMn/DfG9vTuVWz9j\n",
              "XWIebwHBBhxknwgUadWdM7cQ0AlN1AKFhtBGf433GRwAOS0+8dPqbcLZS+GVA4da+kpzHBXEI9e5\n",
              "ZLHyxeokXvNff2yPbsHYZLaK4NLCZLGvXhDWg4Whe0RBgik1CxINB7WCRcA9SeNlRIzbCkiqhM7H\n",
              "InfQH7O3gE2uc5wtZb/d0xUlRYIWV1CgclsUqA2noYiOhxxZNOV/nl+0/goxWm0ReasEEwPuqYjQ\n",
              "Xk2Zp+yTwMVirzkTiXwlymHXGE2cxclnxhxP09HANTB3e9MAAAGRQZvBSeEPJlMCTwAAAwAAOT7D\n",
              "SuevLUAQMY9dyBoFvS0sDx9R2+qIpM2gOAmB9gm23SRFGFWfLUdlQJsD1XIW9S9FibQ8V0jZiuWw\n",
              "orwsAVN6tpurwhWY6gV+oyDvwE9ECKvr21Lrs4cE0OhgyiLH/3pOcKIpimIWBzcVGBYSGMgdstnV\n",
              "TAxv9FN0RN+W6ujUI4JV/L9JI5bjIA3VqHZ46tAsyjppNr4XamHbxm/JDRzyoCU7BbNfbu+IUnsJ\n",
              "9sCBtS0wgeLcPgTks+w0OB/Xt9VWbppRRkjG0gLQOM3CEOAAHF/uQP3stWxQcbpidMlf17IDhn3C\n",
              "od0Q6KYrEQa1NvAZrtTDlARQLJm17hTBIWA37Ez77XEZBwB9sEDsRrK/4m/gWUBZTQ8iOtt3wdcT\n",
              "0+U3cQi8UAcwqCgzrX3BVUzaM1dDe5tN3w42erCB25zF9CTGv7vuVPylljHVHqO64hiZEnelLkME\n",
              "sKtn2V2V1fSLNU3T7YAGZY/OKFRnpoZRH4EG2nsf3JK+cBk16OD0AQgAAAGmQZviSeEPJlMCTwAA\n",
              "AwAATnljURdv4wQm57KPmDerAs38GTvhKFiTPIr5OrLmJJ8Bds0/AVR797HPZnO9RJUnimcV0je8\n",
              "+n0edl++VZaDzZ9RT+kPfW0Z9EppkKb3qlIP7zhZKwA9A0JaQU3V1xDKgnmVyTKjZN5jfPuidyOS\n",
              "6tUcYwKi6DLevu9XdMEBAF5YbBqjcZsCjapOEFmu5/TDmi5c2MeFcDVUSJPU4cyT/vL0Qyiel7qc\n",
              "oXTuaid4p53EKy/TxGv8eaYNUbOqkAq/POdsUEgOllHO5WG3GfVWZGHZnZjL3Yq6FjGOd++EfQCG\n",
              "IBU/Xy35ceGrEuSBb/m6+iMz2MKqZtlp+fbLc8D7uKEqLeD9xh5XUgiigQlAdBAUF7SZQ+dWyHqv\n",
              "MzbnXtcNLL/UwOpGE9PKAjCGmcAI0KPKSnyNSflHqdv90WbmxMBG+c0lrRDa91ZMZY5w66rQKTxN\n",
              "8fEd59jg6v2tSTOZxKf2fZvd4QvTlse4lFcQMrz8y0Nn1CUigf9K3PYFXMGF7iB/7mfsWJpcht9g\n",
              "Zm2dCogo+dmaekEAAAGkQZoDSeEPJlMCTwAAAwAAUL4FldCf9gS7d/GCE3PZSOL2VqTlIrmqbn9F\n",
              "HM6nvqh7qH9TYJudZGmMXyuNGLGOQuobKqPtEfyhuL4vV3Ud95NKA1FdmDCuMoFUbs5tQjNoyUNG\n",
              "cPHICAoTmQxx8f+4j+Y/icZHpU9Xc1YNfiLcuBpyTw+Dxwj8mCT5XouVeN3PnxFOXmj4F/BlQmJX\n",
              "PLPOrreju4QGYnvH9uQZodv8Gx9/cHRW2G0qJjjDwhj0/Q+DzGwDsQGWt+UlBmGcVwd+aW7ImqZi\n",
              "+jDKDKYtCWwg8eXecePIuGtgaESNY2NdKLkHGW9wOfwR+KV7kPFh12RLT+EnSmx9bbkoS6XX2glo\n",
              "eIMyYcXpiRGJGoW0Rb1eteHoAXekZrXqNaBFuj7EPTgNI3pGEm2Sim29/2q1fF8sXHgVs7zm8EPU\n",
              "Br3f2e95e3csnSpgtsYmgqkwst4Sys0geb7vWFVlCHIbazOPtrMVZnYlQ3OytbQ5tSmRlHbs41VP\n",
              "wbYL/rIdFtI4Xwc28ELbQBvZfc/Od7xbV9NjHuFvTVhmUMGAAAABnEGaJEnhDyZTAk8AAAMAAEGT\n",
              "ALLGrv2/jBCbnso6OMAr8sN2lwyHAOifYW+mV96zzZIVWNzJJLaqtS3XdIGj9IboDc1rVBE3JvCB\n",
              "6py6dhiJi4xAMpNcN0gsR/HERTfxi1XVMhHkG1a3geujpNkt2SsYHXNKPqSbFppLZ22k7y0L/9cD\n",
              "tnYFiJmv7EbjyL3rS1z63BEjGMqr1dIWiHqeF4ycve+PHlgrvtzserIkI3vtJ9lYbuLDrbCvRnzV\n",
              "g2eQvQBAuGEYnZW1CS105Nfi+W7ZW8polPf/1/3wo5s0t/J7qwpR6kT171PfKJmVfACwzHa5oLLx\n",
              "C11RcT5CHQoFe/H8FkxQJm/y67djB7pbtVI7AXjQQEBnu6ag9/sNt48lPb+bCwxZHLmjKi90j+yt\n",
              "SBM/s/JHEdgDcfBgUjlk2sRAnqqe8SGx1TdKKSUuNjgoc6luTK+3Lo0Mw9phEQmW92RTlYmMmaUO\n",
              "J7Qhq+hkOlyisWNCOof1O4d8Dq5Gu20hLg09FVquRCxMLfjZ4AxGQ33+6jEXAEgamwDWhyUAAAFe\n",
              "QZpFSeEPJlMCTwAAAwAAN0ZnZvZjiuhWctnoSWEubRMhBVULfk/L54P6qUBR2laF160CeYRKBiz5\n",
              "aNbbMt87EHJD4dguR2RHmEkcRckA+iG2DpDxyAPmqh3weMZpd79vl2KCsea+HJ64Nw7303STi7Uc\n",
              "TT1+BBBh6sViocWVC4m6mI9hpMOiuHMCTY64Pd7TEda9ThtF6P3S0knq7h+q5MIIVhhaNPt0a7lQ\n",
              "PUCkxpA9/XtaaHnE+YOjxCGZPiO4+VBTihMbd1P82YBojZ+Tw38rC4yapzpvaPnyV38pWDdhspPL\n",
              "CEPiM+d0DBCiyWHavtVuGpCeQDIg7mmGbTiPIA8HLdvZSjdl6TtahC8AY9rSg88GiPWO6rvFpW7m\n",
              "vPjEzDShtGDeWGr917Myy3dRkdmdoysob4BRCNro/G6G5XvE7GIy0P0oDEeTMdu+0J16vtj8idLA\n",
              "4KsdtxU7bjEAAAGOQZpmSeEPJlMCTwAfPAhoFH+CoQq7C5fToqnWUexwvKgYs+VIE+v6kqyZvGG9\n",
              "BX/liJjXL8F979jfONEX+d4oPbMPH1RHovsChWib8piRUvHjMaYYpuAxdwSIEo9Ia8x7zTjb4aax\n",
              "me0N1uPMhtUOZU86a5K0McfvgxxXz2v44Qa/4Bg0aDl7kv1XXXy3OWnyfFcsLpr2z86gKsaBN3D0\n",
              "+ogM3hGNbuvbS6iRkWvJl/T/Dz74dm9Qk8fYLBObhGvPossWPoztr5cZdgq47zmwZEo3wuRubz2B\n",
              "DKTYgQE7sNu5JTd0JxdnUXAtUTWvYo0NpZpe9NWuVhWAUZ0bc9Ik2iuEBwm4V703xfyZX0eFWhJ4\n",
              "heeutYFsobRfkniSSgBP5ldU4e9C3mzVjrPxKuXT45fnwfw8w09oOqQHU7/x6ZaX875c+t3+J/GN\n",
              "UxqSc+LKM4NJmrDfWd7igy662STxIcdGq1AwOHA3q9At0SZfWxLKAApFMgHTu8XnJu4lQdGiJOz+\n",
              "ao8duWqybXHaP0EAAAGFQZqHSeEPJlMCbwA2cne7ngEu/DFfQ/X9FeeTp1p2fvKbkz/xKt2fbgSW\n",
              "2p/2qRqv1Sp0liBcrZnc6p7hMq1w/9nUcQvqaNIzqG1ns1U2aITxslBIL5FhfbmRiBwvDTi++wwT\n",
              "t512xAP/PwFVnuC/YrQT5oBd1dWWbQZP6XSp9kn1Goqp1dzKJrJ3jA/BfuGfP/nBovNZHpLkcSnR\n",
              "K7Ri/STQN7W0+2XC6UEqsKbx0xCZdX7YUSADgVFdHkHQMTsaUN99Pz4/uyMnREsGcD1lL7Sp1kR5\n",
              "S9e4wvKP2MoEyKEUhtPqF4xwFogFsXoAIbv9bWrjsyU5VYpWpAhgiYDSpXF2dut/S0Ep9S6O6lww\n",
              "ZAT0kq0GJFivT4ppd3GDH9p5KuQau7/TIona6lN6cfdPVMEqjzIM8RgHDiF0cfCWEyCKnG17UAtO\n",
              "jGIFdjVC2o/nAv12esGTrp3K+hunZf6cRrcjOyAB0yVzhYYmxvZiDcWbSeNoUTxvhI0fjykwJQ11\n",
              "HRekEMEAAAGxQZqoSeEPJlMCbwAw/h5WCut7IBMfa4yhZSAwN5QionULRc37gmGYBkNL6/MUDfoY\n",
              "DvLUOwLcdrto8IhZvkbY+oKqlnurRZcmaywc5xIRC1gGJZGZjrcTR1iKNBlCZvc6rcAkbTC8RRwb\n",
              "t9jZzRKbn6Covulz/ox7pQ9GhHNYYdpUYxAcyiL+fXxVjHA4Ft2O+U/gSOf4MVVs+qeAJkgOV2Oc\n",
              "p/A1r9jQ121ydP1CROy1vX78HXe84APUMgQVQ7L9p0fZu8FLir+A/OmQ3sqtR5zMqYouAj/RRD85\n",
              "sbMA2UiHLJB9+pp1DvFkFs5Irj8Li4DRlnDturXxB1++C9cP6UY8u4TPrT9yOmep0b75+Tjx+3RG\n",
              "05In9nvGssX/Ei6GW9vWSf0nus/Uu0yKnQsEf9Q/xNU6ehAHbKBzPIEELm5rr4x32Qs0FhSHu+rT\n",
              "Z8OKJCQZxxjyOEktF6lOkFjO1d2BFnSkXstzT/v3FpCdu79QAd0ZOIyaySHsgOEuaxzN6nDV/72B\n",
              "op0QWyfco22qJnYjMxmUKyB96DGckbQEe9evWEl0k2Pjn0x0H8AAPEKCgAAAAaZBmslJ4Q8mUwJv\n",
              "AAADAHR/Q27CEzCk7O/ALgmumNkQBNHxmXSBoCZ7ppv+/bBMznso5NBZ3XYTQK/n19BXi4X5skKf\n",
              "JS9JvNqq1Ldd0gaPnfJImhDCnxNMo8iGlFy4wB08/V/fTWPffQ3l30biKcNYY0L5Sl8gyinCVhkY\n",
              "ko7gC7Bo4JO6qcEId139KfteRxhs7DgaoPWrIs369a2lMCHB1RlW3p9DCe/dgGlrU8MSrOYctM31\n",
              "ism9/qeBhVVkGqyr5hNoWVWHwhnVhGT4Pp7rvJVWzsr4PBIKyfWVG/EpHfPHaPPzZDdZJR6dQNcS\n",
              "yYhVYgvi0M3ysPyL2WL0VKt6jE53OB0CZuLLPK+L8UBXY1/XbtpGcLl4obnvRhNW8M/RQ9rNBUYm\n",
              "FS75o0MLC+UhSrevJ3RaAAievPMebqu7ZwGTNTwE1SZ3JjtdEkg/xeRucIl7NjT92Zr8GTWXfuG3\n",
              "x8+MPY4KZZrydiVbbfI2G4MoHx2hTuUeNQyabPYtt/9S/HeL37b1aJvfaI7V41bXSLHsClqyyHeM\n",
              "/Uv3SkFEAU9OOeioYAAAAZBBmupJ4Q8mUwJvAAADAADT/okO/gQxQ1SnvXMs3QtrRO8dEI5rMUHl\n",
              "j/4c3r813aFwF82Sj2OFJCI0wzI8H186qdruoim9T2hRh+H66IOa6OwMa0Rf83ABYChThDCFikiZ\n",
              "qCab6bXxFA9w3IY9oaSNyA3ch/N0PEsg9D4T1ahKUpQ9C3TBVVXegei9X0o9mfRIhFEPzh+JQtbm\n",
              "hx1MN+q+U48NDv4KS2feQdZX7rbAY9APJvn5m6MBEBm5aejappZ1UEzoUOisWjNpkhO0/a2acAh7\n",
              "GTVqQBPzjdjCXue0HRkqsMgn5tpRqvGBsJxr+GN0hSLKFQy2dvUL1/i8LhRbxaEdWogKAIahWPhF\n",
              "6O+AsmxjN58bl7wS/vPEYrxKQQsW79HxuPBck0ZcxNf9EOjvMCOeT17mVoFdl2ViHJpOsC/qt2B/\n",
              "WJgoAIe66kqYIM4BXzIl9tAMSZ06L4TzmO2dGp/Y7HmRTOtlwYArhVffKZ2Su8qahaLz9xFzAzRF\n",
              "7QQbU/Nva4eTcSX5Nn6T/vk5AAABhUGbC0nhDyZTAm8AADo/ojKACtcTOz1K4AJu3OmMY8odwjYU\n",
              "+m3M2vY9jFldfNk+H6fKJqZta7dZtlcNATxWsROB1c7wOGzswxpi2bC9QjPxvfI2NiEkthL8pmNN\n",
              "IBmLCE0dRd0fIMOCRHR8WwVopnMtU5FIFWZp6ePuAplEb/UeO53sq3wGZt6VMPDZw7PS9RbiLcIP\n",
              "HGAlSzjuqg1sX4fcvQzTCA00Q0p4nvw3cvZp9MfO+L2sQ8ymqBBJRhFCH8ZYOJUnF/bKJRwR/Fi0\n",
              "rbNFt9zWIACrh2UTciL7pdx0oz0vNfrWZhv6Aob97NLJWXKpoyD2jzwiMKBRnWct7RbH6QvQEei7\n",
              "REFTzvBDqIjrgvBVL7iTBYntOV2Z42OXNBNVu2NqpXsgr9zoAiyIHG7is1rK7ql4990RBna9bAM5\n",
              "6lfV32wd097wwKG9XWzb8FFuKD1bDHugRTCP8WgmzJDQEDOxnncNELvOTwaOIOL4dhYRDEFszkBY\n",
              "V/I1EAtoXFvC87RMAAABj0GbLEnhDyZTAiP/AAADAAAm37skM+39zqG96Imzv2fwR0tVp4p2N/km\n",
              "D894xfekr5e69CjLQZ3U7AZ9QoxMKSitNVLx7bTuaSzAnLgPDqR5/z+2HCv1S0Zy2m0rghwqdORR\n",
              "akaeRJnknfb7hxjTzUqiDYLBlBNrEbmSE2gXQcEen67fol2gPnorVnGNNQlX81050+OiEfNWTLSL\n",
              "w9nTFibIvL0i/4b64p/I7RzygO4kRx4HDeqL74ObccwCCfT5H5PYPVoO+M8IlFS4KAJuAVGzkQhG\n",
              "CdovK5IymnsM/IAA2kyud95wjay2HDwHwC/XHtELW/j75wDjr3MH8XQh9KWmy+1K/UQCeuvFuJvZ\n",
              "4hDRr0GcgXr7htPYBWgoG+SPhPx2esLG9Qr3Mi54I2VtPusJ+H0smEUSvFTiCNSQOrq7EHTz14J5\n",
              "gn9s4HX5YfJWuUAVplP8ppk/wcTk6Oa+lC+VveA03zk6Ck1NgK6IWBxXg5geWAnxEC3jkkDE5bZg\n",
              "iM2G2nuG1bm9xvv0noBx/AAAAa1Bm01J4Q8mUwIj/wAAAwABJubwmCcAw/gyWZUvQj40VX5Vstf6\n",
              "6SancG/GTaM/E5gKKpN1J7kfDdH77963ipz9RvaFAiEk4k7bfcR+6xrkf0tcueYQzRxk884Y2RtZ\n",
              "2sE5Zyq9rU5aOudrriMNkPV4xNMXU/g/sfujwnkIRL+Hw4fyWGVuYWHmaGYVe3tyKefqJ3al2NYD\n",
              "j6FHano6T/eOdGo1lXaimzWHDmRZ3jAcO5lrSlFCvNkReTk3gwtwGX4CSZ6FmkDO0y6HkAFzznpl\n",
              "Owy3UpvGNeO36N2BGe+aeC8dnRVJd0xSjG1aOacGwihQiMAiP8GTm0JUk+RbuNNHv0CXYwmTrHHX\n",
              "Y/hJ1vf+Yn8/MY00EchA42o/0YDEvS6h+ThEw0hew4V6/Gib3amB1NCh+yXWAM/X9YSujyp2V9ZZ\n",
              "HZJtLBm6HO3QrdcH1YIUVxCjkbqXia8BlgJL1vU2xxXwTMt8VDtzeO1+JuWLhfeL1TlEDWRJUxIR\n",
              "pcPzZ3kp5raaLx5WUO7kOwJHzUIHS/gtsdQeOc0sD9bTRpJpQNV1d9AAM8CHI4pEz/EAAAGmQZtu\n",
              "SeEPJlMCI/8AAAMAArsb3+VyUVasUA6lie7In09uPXyh2lfqXdN3s0xjIlG4sPmvY+VqL/bCUn3E\n",
              "QwAyo2lsufvJz4Et8HAWBJ+D4aSynlzQt/7tTzDbmXyCnCYfisZkUAorliIA+eII/LYSMrR29vkl\n",
              "GjwVCZxkPwF+5FdaWiUtvcNUcuNljWulr8xx0M4l+XWbTObgYEvtwgEzhvBjTR0eQog2tRwQt6Wg\n",
              "X2xnSmF/sxJoTPwZ4K6vkqFNScSIesiayhcAgwpGi/ItjzCgmgzfttlBjBJfDnmMpEuKeUFDWNWy\n",
              "9PNqkQp0e9Qy2TA5sCSNFd8+CCnP7cSmU4esN+ZjMOxNHlr9FQ0bUGaGqjxgzw8mcy3DBaGY5pHX\n",
              "F4nwHAF8hLB9/cxo8CwZfpSN8RPfGzdGnJ+ToXAFTufOCBVjAb98v7aetJLfbv8tlHvbSkZDCXdx\n",
              "MTk9j5LMv9jtBtvXBBTKqynJoV0ytT+bwFwr96nOfxDaUbe7KNUq4geVis+bX+UhMTvnBPFImPH9\n",
              "9Wj1a043fN17xbiXnleEBOwJArcAAAJaQZuSSeEPJlMCK/8AAAMAAid62Wj9A3d2fif9VVE5a3Dh\n",
              "4ZOa6AYjuhhepuEudDJexIxJrV4AD3zIzTTL5pvAYzrSskkFCqC/PO1YLTPXhOcrBmoH1ApDayeP\n",
              "ulQBwbd41ljNrYzhnHECSPDsdHtVWVLcqT+KPlEO1YjCSAKVqC6it/EQu8uDove4Cv/jQnjbXx9n\n",
              "tVjr5/Nv2bHNsqKTOQi34dVa0b6A3ekVpAUhtZBFF2gkciSZEwW9GtSIUWFuIwypS55Fet1p9ZMr\n",
              "sifCTIhXgRJhEzWNPKm3oeNmPh+xBwUTlYFVzrCiyQzdINGuZHshLSKYdp5C1pveX6sZY8zHiQwe\n",
              "8yZHGYhtd5LxbstlVg6fqG9lT8rAy54JPHSH4gSqzFBvxzwO2A1pu6XPauWdcU9q23yjU6w3guJR\n",
              "+HXzT5gdzvi2I3ke027VKUIUwADEBdqjCZMZbTHbcKYOFAatzdCePwExKiIoD2Nm9Hqg/H9CQSSx\n",
              "JxrWEolG9zJq7hPNelQvCfNpOot5A1+BsLtLsZU1lCQX+a5fmoB7zOga+ZX82oPOhPWnfpresKvQ\n",
              "PEUbj4TOf1B6AbDbtisiRNeepQYdCQLfGDQUB32m/kkxH3PCJJeKGALQ0T3DNjvwEZTef7FDwe/O\n",
              "xhcpdOeiJqGDn49X3w4mtQhdPWTEsFv0iW6gWKQsQnCUzKSwQ4K9pPc4NdzWBZwNaqzf3RUOBJWd\n",
              "qadDhZK0Om4fNcCq2osMBEneiNEh9Wb6EAv//29I5jY8kUv55rrRcKJ63Xagkw6IYEyriFEJ9ssA\n",
              "AABAQZ+wRRE8Jf8AAAMBbDMESgKCU2ddeuwCGlc4NqtC6CL3F1xn9EF/vcQAdhDA0jsY0oqa9bs+\n",
              "XywWzQUBM6S2gAAAACABn890Qt8AAAMBjKC07g+/xUU1pg+i0pQ9VXuM/2gKSAAAABoBn9FqQt8A\n",
              "AAMBkKqjFpjpb4HQFqZS7WAGzQAAABVBm9ZJqEFomUwIQ/8AAAMAAAMAEvAAAAAhQZ/0RREsJf8A\n",
              "AAMBa1KiPl9Kn0UmWsacVde9HJF4c8P8AAAAGAGeE3RC3wAAAwGMoLIZK2zIR4q3PICDgQAAABgB\n",
              "nhVqQt8AAAMBkKqhqRBVKp/XSRKIBQQAAAFnQZoYSahBbJlMFEwt/wAAAwAQbxNfuuGEb78clVfj\n",
              "c1cdahpYSSuhU/Rp/40Foc/326vdEF021ehVLtfq0ADbk2b74d2qG5oXbPGWHtU83aAY2rGchCEc\n",
              "SUcqSFHE8xgjlN3WFU/KbsaIFtdmniyO42lO9VX+GvBcr8QZ308Ns25YanyXqaxnTiMAo9br69F6\n",
              "wSUWfwlNGqK/2Vvwdf/EgxBQAloHrxeBy7FYr02o1ggUQZzrGmnaU/uasmxWxjuGdqx3LSejzrHJ\n",
              "Kz0fswX1f6zhj2o65re80ZmtAcLX23ybLlw7CoXu7SxT05LSbF2y2mkXUn3M7V88KQtP+ShI7Yfy\n",
              "/e1jGOvO92/LeCeLoylx81HKOgY9rSUDlh5fK1Uhedaef8e3hbkLiMIwL6CyTWoHZIYpWVwgTEoT\n",
              "DB4i/F80yigtOt0F1ZVPHjNUgXsDXOdKid2pilEYMQJA1hsHntbnyankhV0AAAArAZ43akLfAAAD\n",
              "AZJ69ULQ9YNowW3xLc0P0Ekf8hgvAvvkCapbebfaloEm4QAABbhtb292AAAAbG12aGQAAAAAAAAA\n",
              "AAAAAAAAAAPoAAAXogABAAABAAAAAAAAAAAAAAAAAQAAAAAAAAAAAAAAAAAAAAEAAAAAAAAAAAAA\n",
              "AAAAAEAAAAAAAAAAAAAAAAAAAAAAAAAAAAAAAAAAAAAAAAACAAAE4nRyYWsAAABcdGtoZAAAAAMA\n",
              "AAAAAAAAAAAAAAEAAAAAAAAXogAAAAAAAAAAAAAAAAAAAAAAAQAAAAAAAAAAAAAAAAAAAAEAAAAA\n",
              "AAAAAAAAAAAAAEAAAAAB9AAAAfQAAAAAACRlZHRzAAAAHGVsc3QAAAAAAAAAAQAAF6IAAAQAAAEA\n",
              "AAAABFptZGlhAAAAIG1kaGQAAAAAAAAAAAAAAAAAACgAAADyAFXEAAAAAAAtaGRscgAAAAAAAAAA\n",
              "dmlkZQAAAAAAAAAAAAAAAFZpZGVvSGFuZGxlcgAAAAQFbWluZgAAABR2bWhkAAAAAQAAAAAAAAAA\n",
              "AAAAJGRpbmYAAAAcZHJlZgAAAAAAAAABAAAADHVybCAAAAABAAADxXN0YmwAAAC5c3RzZAAAAAAA\n",
              "AAABAAAAqWF2YzEAAAAAAAAAAQAAAAAAAAAAAAAAAAAAAAAB9AH0AEgAAABIAAAAAAAAAAEAAAAA\n",
              "AAAAAAAAAAAAAAAAAAAAAAAAAAAAAAAAAAAAAAAY//8AAAA3YXZjQwFkAB7/4QAaZ2QAHqzZQIAQ\n",
              "eeeEAAADAAQAAAMAoDxYtlgBAAZo6+PLIsD9+PgAAAAAHHV1aWRraEDyXyRPxbo5pRvPAyPzAAAA\n",
              "AAAAABhzdHRzAAAAAAAAAAEAAAB5AAACAAAAABRzdHNzAAAAAAAAAAEAAAABAAAAsGN0dHMAAAAA\n",
              "AAAAFAAAAAkAAAQAAAAAAQAABgAAAAABAAACAAAAACAAAAQAAAAAAQAABgAAAAABAAACAAAAABUA\n",
              "AAQAAAAAAQAABgAAAAABAAACAAAAACsAAAQAAAAAAQAACgAAAAABAAAEAAAAAAEAAAAAAAAAAQAA\n",
              "AgAAAAABAAAKAAAAAAEAAAQAAAAAAQAAAAAAAAABAAACAAAAAAEAAAYAAAAAAQAAAgAAAAAcc3Rz\n",
              "YwAAAAAAAAABAAAAAQAAAHkAAAABAAAB+HN0c3oAAAAAAAAAAAAAAHkAAAfnAAABmAAAAbYAAAGr\n",
              "AAABlgAAAYgAAAGZAAABqgAAAagAAAGsAAAANwAAAWMAAAGJAAABgQAAAbAAAAGbAAABkwAAAYsA\n",
              "AAGPAAABowAAAaEAAAGZAAABYgAAAYwAAAF/AAABsAAAAZ0AAAGXAAABhwAAAZcAAAGpAAABpwAA\n",
              "AZgAAAFhAAABkAAAAYIAAAGzAAABpAAAAZQAAAGLAAABkQAAAaUAAAGkAAABowAAADoAAAFgAAAB\n",
              "jAAAAYAAAAGtAAABmgAAAZQAAAGFAAABlgAAAaYAAAGmAAABogAAAWcAAAGRAAABiAAAAbUAAAGk\n",
              "AAABlAAAAYsAAAGQAAABpQAAAaYAAAGiAAAAMQAAAWAAAAGLAAABfwAAAa8AAAGaAAABlAAAAYUA\n",
              "AAGUAAABpgAAAaYAAAGhAAABYgAAAZEAAAGEAAABswAAAaQAAAGUAAABiwAAAZMAAAGlAAABpAAA\n",
              "AaIAAAFkAAABjgAAAYMAAAGxAAABngAAAZcAAAGIAAABlQAAAaoAAAGoAAABoAAAAWIAAAGSAAAB\n",
              "iQAAAbUAAAGqAAABlAAAAYkAAAGTAAABsQAAAaoAAAJeAAAARAAAACQAAAAeAAAAGQAAACUAAAAc\n",
              "AAAAHAAAAWsAAAAvAAAAFHN0Y28AAAAAAAAAAQAAADAAAABidWR0YQAAAFptZXRhAAAAAAAAACFo\n",
              "ZGxyAAAAAAAAAABtZGlyYXBwbAAAAAAAAAAAAAAAAC1pbHN0AAAAJal0b28AAAAdZGF0YQAAAAEA\n",
              "AAAATGF2ZjU4Ljc2LjEwMA==\n",
              "\">\n",
              "  Your browser does not support the video tag.\n",
              "</video>"
            ]
          },
          "metadata": {},
          "execution_count": 18
        }
      ],
      "source": [
        "test_agent(env, target_policy)"
      ]
    },
    {
      "cell_type": "markdown",
      "metadata": {
        "id": "yS8vAMgUC41D"
      },
      "source": [
        "## Resources"
      ]
    },
    {
      "cell_type": "markdown",
      "metadata": {
        "id": "u450wuAjC41D"
      },
      "source": [
        "[[1] Reinforcement Learning: An Introduction. Ch. 5: Monte Carlo methods](https://web.stanford.edu/class/psych209/Readings/SuttonBartoIPRLBook2ndEd.pdf)"
      ]
    }
  ],
  "metadata": {
    "kernelspec": {
      "display_name": "Python 3",
      "language": "python",
      "name": "python3"
    },
    "language_info": {
      "codemirror_mode": {
        "name": "ipython",
        "version": 3
      },
      "file_extension": ".py",
      "mimetype": "text/x-python",
      "name": "python",
      "nbconvert_exporter": "python",
      "pygments_lexer": "ipython3",
      "version": "3.8.5"
    },
    "colab": {
      "provenance": [],
      "name": "6. MCM off_policy_control.ipynb",
      "include_colab_link": true
    }
  },
  "nbformat": 4,
  "nbformat_minor": 0
}